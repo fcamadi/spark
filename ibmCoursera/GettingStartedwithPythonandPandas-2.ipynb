{
 "cells": [
  {
   "cell_type": "markdown",
   "id": "2e36a3c0-2758-49ea-9207-2ab40cde8d5a",
   "metadata": {},
   "source": [
    "<p style=\"text-align:center\">\n",
    "    <a href=\"https://skills.network\" target=\"_blank\">\n",
    "    <img src=\"https://cf-courses-data.s3.us.cloud-object-storage.appdomain.cloud/IBM-BD0225EN-SkillsNetwork/images/IDSN-logo.png\" width=\"200\" alt=\"Skills Network Logo\"  />\n",
    "    </a>\n",
    "</p>\n"
   ]
  },
  {
   "cell_type": "markdown",
   "id": "45683a01",
   "metadata": {},
   "source": [
    "# Getting Started with PySpark and Pandas\n"
   ]
  },
  {
   "cell_type": "markdown",
   "id": "02e7d9ca-089e-4fad-a9d0-fb2b6eb419f1",
   "metadata": {},
   "source": [
    "SAME AS THE ORIGINAL NOTEBOOK, BUT WE IMPORT THE WHOOOOLE pandas DATAFRAME"
   ]
  },
  {
   "cell_type": "markdown",
   "id": "6b9a57ca",
   "metadata": {},
   "source": [
    "Estimated time needed: **60** minutes\n"
   ]
  },
  {
   "cell_type": "markdown",
   "id": "24043296",
   "metadata": {},
   "source": [
    "PySpark is the Python API for Apache Spark, a distributed computing system designed for handling large-scale data processing. Its ability to perform computations across multiple nodes makes it an ideal choice for Big Data scenarios, where data sets can reach terabytes or even petabytes in size. PySpark allows data scientists and analysts to harness the power of distributed computing, scaling up their workflows and processing capabilities significantly.\n"
   ]
  },
  {
   "cell_type": "markdown",
   "id": "7349c3d9",
   "metadata": {},
   "source": [
    "In contrast, Pandas is a powerful library tailored for data manipulation and analysis in Python, primarily used for handling structured data. It provides rich functionality for data cleaning, transformation, aggregation, and visualization, making it particularly suited for smaller data sets typically fitting into memory. Pandas excels at operations requiring quick turnaround times for data analysis and exploration, facilitating tasks such as data wrangling and exploratory data analysis.\n"
   ]
  },
  {
   "cell_type": "markdown",
   "id": "29e424b8",
   "metadata": {},
   "source": [
    "To illustrate the strengths of both PySpark and Pandas, we will utilize a sample COVID-19 data set containing daily cases, deaths, and vaccinations across various continents.\n"
   ]
  },
  {
   "cell_type": "markdown",
   "id": "5f0b56f5",
   "metadata": {},
   "source": [
    "## Objectives\n"
   ]
  },
  {
   "cell_type": "markdown",
   "id": "033fa373",
   "metadata": {},
   "source": [
    "- Understand PySpark and Pandas: Explain the core functionalities and use cases of PySpark for big data processing and Pandas for data manipulation.\n"
   ]
  },
  {
   "cell_type": "markdown",
   "id": "2fa9ccdb",
   "metadata": {},
   "source": [
    "- Set up the environment: Install and configure PySpark and Pandas to work together in a Python environment.\n"
   ]
  },
  {
   "cell_type": "markdown",
   "id": "d148f1f4",
   "metadata": {},
   "source": [
    "- Load and explore data: Import data into Pandas and PySpark DataFrames and perform basic data exploration.\n"
   ]
  },
  {
   "cell_type": "markdown",
   "id": "a9d68df7",
   "metadata": {},
   "source": [
    "- Convert between DataFrames: Convert a Pandas DataFrame to a Spark DataFrame for distributed processing.\n"
   ]
  },
  {
   "cell_type": "markdown",
   "id": "488ef90c",
   "metadata": {},
   "source": [
    "- Perform data manipulation: Create new columns, filter data, and perform aggregations using PySpark.\n"
   ]
  },
  {
   "cell_type": "markdown",
   "id": "460420c5",
   "metadata": {},
   "source": [
    "- Utilize SQL queries: Use Spark SQL for querying data and leveraging user-defined functions (UDFs).\n"
   ]
  },
  {
   "cell_type": "markdown",
   "id": "3a640c77",
   "metadata": {},
   "source": [
    "## 1. PySpark overview\n"
   ]
  },
  {
   "cell_type": "markdown",
   "id": "b322f2c4",
   "metadata": {},
   "source": [
    "### Overview\n"
   ]
  },
  {
   "cell_type": "markdown",
   "id": "54de6c53",
   "metadata": {},
   "source": [
    "PySpark is the Python API for Apache Spark, designed for large-scale data processing and analysis. It offers tools for working with RDDs and DataFrames, enabling efficient, fault-tolerant distributed computing.\n"
   ]
  },
  {
   "cell_type": "markdown",
   "id": "3d27e4e6",
   "metadata": {},
   "source": [
    "### Key features\n"
   ]
  },
  {
   "cell_type": "markdown",
   "id": "c9b2fc44",
   "metadata": {},
   "source": [
    "- **Distributed computing:** Handles data across multiple nodes in a cluster.\n",
    "- **High performance:** Outperforms traditional frameworks in speed.\n",
    "- **Big data handling:** Manages data sets larger than a single machine's memory.\n",
    "- **Python integration:** Compatible with Python libraries like Pandas and NumPy.\n"
   ]
  },
  {
   "cell_type": "markdown",
   "id": "d320446e",
   "metadata": {},
   "source": [
    "### Use cases\n"
   ]
  },
  {
   "cell_type": "markdown",
   "id": "24119fbb",
   "metadata": {},
   "source": [
    "- **Large-scale data processing:** Ideal for processing large volumes of data that exceed the capacity of a single machine.\n",
    "- **Data analysis:** Useful for complex data manipulations and analysis using distributed computing.\n"
   ]
  },
  {
   "cell_type": "markdown",
   "id": "a5e14c42",
   "metadata": {},
   "source": [
    "### Strengths\n"
   ]
  },
  {
   "cell_type": "markdown",
   "id": "96274411",
   "metadata": {},
   "source": [
    "- High-speed data processing.\n",
    "- Fault-tolerant and scalable.\n"
   ]
  },
  {
   "cell_type": "markdown",
   "id": "af86b810",
   "metadata": {},
   "source": [
    "### Limitations\n"
   ]
  },
  {
   "cell_type": "markdown",
   "id": "c5448258",
   "metadata": {},
   "source": [
    "- Complex setup and configuration.\n",
    "- Steeper learning curve compared to some data processing tools.\n"
   ]
  },
  {
   "cell_type": "markdown",
   "id": "c935863d",
   "metadata": {},
   "source": [
    "## 2. Understanding Pandas\n"
   ]
  },
  {
   "cell_type": "markdown",
   "id": "80dcf807",
   "metadata": {},
   "source": [
    "### Overview\n"
   ]
  },
  {
   "cell_type": "markdown",
   "id": "51f45249",
   "metadata": {},
   "source": [
    "Pandas is a Python library designed for data manipulation and analysis. It provides two primary data structures: Series and DataFrame, which facilitate handling and organizing structured data.\n"
   ]
  },
  {
   "cell_type": "markdown",
   "id": "5b1fc806",
   "metadata": {},
   "source": [
    "### Key features\n"
   ]
  },
  {
   "cell_type": "markdown",
   "id": "727c7c4e",
   "metadata": {},
   "source": [
    "- **Data structures:** Series for one-dimensional data and DataFrame for two-dimensional data.\n",
    "- **Data I/O:** Reads and writes data in various formats such as CSV, Excel, and SQL.\n",
    "- **Data cleaning:** Functions for handling missing or duplicate data.\n",
    "- **Data analysis:** Includes statistical functions for detailed data analysis.\n"
   ]
  },
  {
   "cell_type": "markdown",
   "id": "ea6356ef",
   "metadata": {},
   "source": [
    "### Use cases\n"
   ]
  },
  {
   "cell_type": "markdown",
   "id": "a3c32156",
   "metadata": {},
   "source": [
    "- **Data manipulation:** Efficient handling of structured data.\n",
    "- **Data analysis:** Comprehensive analysis and transformation of data sets.\n"
   ]
  },
  {
   "cell_type": "markdown",
   "id": "1e4a0ae0",
   "metadata": {},
   "source": [
    "### Strengths\n"
   ]
  },
  {
   "cell_type": "markdown",
   "id": "e393764e",
   "metadata": {},
   "source": [
    "- User-friendly API for data manipulation.\n",
    "- Extensive support for various data formats.\n"
   ]
  },
  {
   "cell_type": "markdown",
   "id": "88e01276",
   "metadata": {},
   "source": [
    "### Limitations\n"
   ]
  },
  {
   "cell_type": "markdown",
   "id": "be5751ca",
   "metadata": {},
   "source": [
    "- Limited scalability for extremely large datasets compared to distributed frameworks.\n"
   ]
  },
  {
   "cell_type": "markdown",
   "id": "e94abbec",
   "metadata": {},
   "source": [
    "## 3. Setting up the environment\n"
   ]
  },
  {
   "cell_type": "markdown",
   "id": "586b112a",
   "metadata": {},
   "source": [
    "### Installation\n"
   ]
  },
  {
   "cell_type": "markdown",
   "id": "6f90637f",
   "metadata": {},
   "source": [
    "- First, let's install the necessary libraries if they are not already installed.\n"
   ]
  },
  {
   "cell_type": "code",
   "execution_count": 21,
   "id": "b46e53fd",
   "metadata": {},
   "outputs": [
    {
     "name": "stdout",
     "output_type": "stream",
     "text": [
      "Requirement already satisfied: plotly in /home/francd/anaconda3/envs/masterMLpython/lib/python3.12/site-packages (6.0.0)\n",
      "Requirement already satisfied: pyspark[pandas_on_spark] in /home/francd/anaconda3/envs/masterMLpython/lib/python3.12/site-packages (3.5.4)\n",
      "Requirement already satisfied: py4j==0.10.9.7 in /home/francd/anaconda3/envs/masterMLpython/lib/python3.12/site-packages (from pyspark[pandas_on_spark]) (0.10.9.7)\n",
      "Requirement already satisfied: pandas>=1.0.5 in /home/francd/anaconda3/envs/masterMLpython/lib/python3.12/site-packages (from pyspark[pandas_on_spark]) (2.2.3)\n",
      "Requirement already satisfied: pyarrow>=4.0.0 in /home/francd/anaconda3/envs/masterMLpython/lib/python3.12/site-packages (from pyspark[pandas_on_spark]) (19.0.0)\n",
      "Requirement already satisfied: numpy<2,>=1.15 in /home/francd/anaconda3/envs/masterMLpython/lib/python3.12/site-packages (from pyspark[pandas_on_spark]) (1.26.4)\n",
      "Requirement already satisfied: narwhals>=1.15.1 in /home/francd/anaconda3/envs/masterMLpython/lib/python3.12/site-packages (from plotly) (1.25.2)\n",
      "Requirement already satisfied: packaging in /home/francd/anaconda3/envs/masterMLpython/lib/python3.12/site-packages (from plotly) (24.2)\n",
      "Requirement already satisfied: python-dateutil>=2.8.2 in /home/francd/anaconda3/envs/masterMLpython/lib/python3.12/site-packages (from pandas>=1.0.5->pyspark[pandas_on_spark]) (2.9.0.post0)\n",
      "Requirement already satisfied: pytz>=2020.1 in /home/francd/anaconda3/envs/masterMLpython/lib/python3.12/site-packages (from pandas>=1.0.5->pyspark[pandas_on_spark]) (2024.1)\n",
      "Requirement already satisfied: tzdata>=2022.7 in /home/francd/anaconda3/envs/masterMLpython/lib/python3.12/site-packages (from pandas>=1.0.5->pyspark[pandas_on_spark]) (2023.3)\n",
      "Requirement already satisfied: six>=1.5 in /home/francd/anaconda3/envs/masterMLpython/lib/python3.12/site-packages (from python-dateutil>=2.8.2->pandas>=1.0.5->pyspark[pandas_on_spark]) (1.16.0)\n"
     ]
    }
   ],
   "source": [
    "!pip install pyspark[pandas_on_spark] plotly "
   ]
  },
  {
   "cell_type": "code",
   "execution_count": 11,
   "id": "c6e9b756",
   "metadata": {},
   "outputs": [
    {
     "name": "stdout",
     "output_type": "stream",
     "text": [
      "Requirement already satisfied: findspark in /home/francd/anaconda3/envs/masterMLpython/lib/python3.12/site-packages (2.0.1)\n"
     ]
    }
   ],
   "source": [
    "!pip install findspark"
   ]
  },
  {
   "cell_type": "code",
   "execution_count": 12,
   "id": "1fd31ec1",
   "metadata": {},
   "outputs": [
    {
     "name": "stdout",
     "output_type": "stream",
     "text": [
      "Requirement already satisfied: pandas in /home/francd/anaconda3/envs/masterMLpython/lib/python3.12/site-packages (2.2.3)\n",
      "Requirement already satisfied: numpy>=1.26.0 in /home/francd/anaconda3/envs/masterMLpython/lib/python3.12/site-packages (from pandas) (1.26.4)\n",
      "Requirement already satisfied: python-dateutil>=2.8.2 in /home/francd/anaconda3/envs/masterMLpython/lib/python3.12/site-packages (from pandas) (2.9.0.post0)\n",
      "Requirement already satisfied: pytz>=2020.1 in /home/francd/anaconda3/envs/masterMLpython/lib/python3.12/site-packages (from pandas) (2024.1)\n",
      "Requirement already satisfied: tzdata>=2022.7 in /home/francd/anaconda3/envs/masterMLpython/lib/python3.12/site-packages (from pandas) (2023.3)\n",
      "Requirement already satisfied: six>=1.5 in /home/francd/anaconda3/envs/masterMLpython/lib/python3.12/site-packages (from python-dateutil>=2.8.2->pandas) (1.16.0)\n"
     ]
    }
   ],
   "source": [
    "!pip install pandas"
   ]
  },
  {
   "cell_type": "markdown",
   "id": "637700c3",
   "metadata": {},
   "source": [
    "## 4. Initializing a Spark session\n"
   ]
  },
  {
   "cell_type": "markdown",
   "id": "4fe45539",
   "metadata": {},
   "source": [
    "A Spark session is crucial for working with PySpark. It enables DataFrame creation, data loading, and various operations.\n"
   ]
  },
  {
   "cell_type": "markdown",
   "id": "7e3f2e74",
   "metadata": {},
   "source": [
    "### Importing libraries\n"
   ]
  },
  {
   "cell_type": "markdown",
   "id": "803037b1",
   "metadata": {},
   "source": [
    "- `findspark` is used to locate the Spark installation.\n",
    "- `pandas` is imported for data manipulation.\n"
   ]
  },
  {
   "cell_type": "markdown",
   "id": "899663ca",
   "metadata": {},
   "source": [
    "### Creating a Spark session\n"
   ]
  },
  {
   "cell_type": "markdown",
   "id": "719b7636-87d3-4a8c-a0b1-6be5f72c02fd",
   "metadata": {},
   "source": [
    "- `SparkSession.builder.appName(\"COVID-19 Data Analysis\").getOrCreate()` initializes a Spark session with the specified application name.\n"
   ]
  },
  {
   "cell_type": "markdown",
   "id": "e8390c72",
   "metadata": {},
   "source": [
    "### Checking Spark session\n"
   ]
  },
  {
   "cell_type": "markdown",
   "id": "45736a03-145b-4117-937a-77bbfe5e9bb8",
   "metadata": {},
   "source": [
    "- The code checks if the Spark session is active and prints an appropriate message.\n"
   ]
  },
  {
   "cell_type": "code",
   "execution_count": 13,
   "id": "8f8f4a9b",
   "metadata": {},
   "outputs": [
    {
     "name": "stdout",
     "output_type": "stream",
     "text": [
      "SparkSession is active and ready to use.\n"
     ]
    }
   ],
   "source": [
    "import findspark  # This helps us find and use Apache Spark (in Python!)\n",
    "findspark.init()  # Initialize findspark to locate Spark\n",
    "from pyspark.sql import SparkSession  \n",
    "from pyspark.sql.types import StructType, StructField, StringType, IntegerType, LongType, DateType\n",
    "import pandas as pd  \n",
    "# Initialize a Spark Session\n",
    "spark = SparkSession \\\n",
    "    .builder \\\n",
    "    .appName(\"COVID-19 Data Analysis\") \\\n",
    "    .config(\"spark.sql.execution.arrow.pyspark.enabled\", \"true\") \\\n",
    "    .getOrCreate()\n",
    "\n",
    "# Check if the Spark Session is active\n",
    "if 'spark' in locals() and isinstance(spark, SparkSession):\n",
    "    print(\"SparkSession is active and ready to use.\")\n",
    "else:\n",
    "    print(\"SparkSession is not active. Please create a SparkSession.\")"
   ]
  },
  {
   "cell_type": "markdown",
   "id": "1e9cb184",
   "metadata": {},
   "source": [
    "## 5. Importing data into Pandas from various sources\n"
   ]
  },
  {
   "cell_type": "markdown",
   "id": "2642eaa7",
   "metadata": {},
   "source": [
    "Let's read the COVID-19 data from the provided URL.\n"
   ]
  },
  {
   "cell_type": "code",
   "execution_count": 14,
   "id": "28aaa452",
   "metadata": {},
   "outputs": [],
   "source": [
    "# Read the COVID-19 data from the provided URL\n",
    "vaccination_data = pd.read_csv('https://cf-courses-data.s3.us.cloud-object-storage.appdomain.cloud/KpHDlIzdtR63BdTofl1mOg/owid-covid-latest.csv')"
   ]
  },
  {
   "cell_type": "markdown",
   "id": "6f671a11",
   "metadata": {},
   "source": [
    "## 6. Displaying the first five records\n"
   ]
  },
  {
   "cell_type": "markdown",
   "id": "b05e50f5-5e31-4956-b9b7-256e97893868",
   "metadata": {},
   "source": [
    "### To retrieve and print the first five records\n"
   ]
  },
  {
   "cell_type": "markdown",
   "id": "2dd7f92e-961c-40f2-9b3c-1a389bf06367",
   "metadata": {},
   "source": [
    "- `vaccination_data.head()` retrieves the first five rows of the DataFrame vaccination_data.This gives us a quick look at the data contained within the data set.\n",
    "- The `print` function is used to display a message indicating what is being shown, followed by the actual data.\n"
   ]
  },
  {
   "cell_type": "markdown",
   "id": "adf06498-3710-4a1d-a947-409cee745bd6",
   "metadata": {},
   "source": [
    "### Selecting specific columns:\n"
   ]
  },
  {
   "cell_type": "markdown",
   "id": "a889c593-465f-4405-9165-bef58bb2d574",
   "metadata": {},
   "source": [
    "- Let\\'s define a list called `columns_to_display`, which contains the names of the columns as : `['continent', 'total_cases', 'total_deaths', 'total_vaccinations', 'population']`.\n",
    "- By using `vaccination_data[columns_to_display].head()`, let\\'s filter the DataFrame to only show the specified columns and again display the first five records of this subset.\n",
    "- The continent column is explicitly converted to string, while the numeric columns (total cases, total deaths, total vaccinations, population) are filled with zeros for NaN values and then converted to int64 (which is compatible with LongType in Spark).\n",
    "- The use of fillna(0) ensures that NaN values do not cause type issues during the Spark DataFrame creation.\n"
   ]
  },
  {
   "cell_type": "code",
   "execution_count": 15,
   "id": "d1267201",
   "metadata": {},
   "outputs": [
    {
     "name": "stdout",
     "output_type": "stream",
     "text": [
      "Displaying the first 5 records of the vaccination data:\n",
      "  continent  total_cases  total_deaths  total_vaccinations    population\n",
      "0      Asia     235214.0        7998.0                 NaN  4.112877e+07\n",
      "1       NaN   13145380.0      259117.0                 NaN  1.426737e+09\n",
      "2    Europe     335047.0        3605.0                 NaN  2.842318e+06\n",
      "3    Africa     272139.0        6881.0                 NaN  4.490323e+07\n",
      "4   Oceania       8359.0          34.0                 NaN  4.429500e+04\n"
     ]
    }
   ],
   "source": [
    "print(\"Displaying the first 5 records of the vaccination data:\")\n",
    "columns_to_display = ['continent', 'total_cases', 'total_deaths', 'total_vaccinations', 'population']\n",
    "# Show the first 5 records\n",
    "print(vaccination_data[columns_to_display].head())"
   ]
  },
  {
   "cell_type": "code",
   "execution_count": 16,
   "id": "7e0f9fca-5c69-4144-898e-969bc116ca0f",
   "metadata": {},
   "outputs": [
    {
     "name": "stdout",
     "output_type": "stream",
     "text": [
      "Row count: (247, 67)\n"
     ]
    },
    {
     "data": {
      "text/html": [
       "<div>\n",
       "<style scoped>\n",
       "    .dataframe tbody tr th:only-of-type {\n",
       "        vertical-align: middle;\n",
       "    }\n",
       "\n",
       "    .dataframe tbody tr th {\n",
       "        vertical-align: top;\n",
       "    }\n",
       "\n",
       "    .dataframe thead th {\n",
       "        text-align: right;\n",
       "    }\n",
       "</style>\n",
       "<table border=\"1\" class=\"dataframe\">\n",
       "  <thead>\n",
       "    <tr style=\"text-align: right;\">\n",
       "      <th></th>\n",
       "      <th>total_cases</th>\n",
       "      <th>new_cases</th>\n",
       "      <th>new_cases_smoothed</th>\n",
       "      <th>total_deaths</th>\n",
       "      <th>new_deaths</th>\n",
       "      <th>new_deaths_smoothed</th>\n",
       "      <th>total_cases_per_million</th>\n",
       "      <th>new_cases_per_million</th>\n",
       "      <th>new_cases_smoothed_per_million</th>\n",
       "      <th>total_deaths_per_million</th>\n",
       "      <th>...</th>\n",
       "      <th>male_smokers</th>\n",
       "      <th>handwashing_facilities</th>\n",
       "      <th>hospital_beds_per_thousand</th>\n",
       "      <th>life_expectancy</th>\n",
       "      <th>human_development_index</th>\n",
       "      <th>population</th>\n",
       "      <th>excess_mortality_cumulative_absolute</th>\n",
       "      <th>excess_mortality_cumulative</th>\n",
       "      <th>excess_mortality</th>\n",
       "      <th>excess_mortality_cumulative_per_million</th>\n",
       "    </tr>\n",
       "  </thead>\n",
       "  <tbody>\n",
       "    <tr>\n",
       "      <th>count</th>\n",
       "      <td>2.460000e+02</td>\n",
       "      <td>242.000000</td>\n",
       "      <td>242.000000</td>\n",
       "      <td>2.460000e+02</td>\n",
       "      <td>243.000000</td>\n",
       "      <td>243.00000</td>\n",
       "      <td>246.000000</td>\n",
       "      <td>242.000000</td>\n",
       "      <td>242.000000</td>\n",
       "      <td>246.000000</td>\n",
       "      <td>...</td>\n",
       "      <td>145.000000</td>\n",
       "      <td>96.000000</td>\n",
       "      <td>173.000000</td>\n",
       "      <td>231.000000</td>\n",
       "      <td>190.000000</td>\n",
       "      <td>2.470000e+02</td>\n",
       "      <td>0.0</td>\n",
       "      <td>0.0</td>\n",
       "      <td>0.0</td>\n",
       "      <td>0.0</td>\n",
       "    </tr>\n",
       "    <tr>\n",
       "      <th>mean</th>\n",
       "      <td>1.336634e+07</td>\n",
       "      <td>885.607438</td>\n",
       "      <td>126.515355</td>\n",
       "      <td>1.198689e+05</td>\n",
       "      <td>14.032922</td>\n",
       "      <td>2.00472</td>\n",
       "      <td>203988.255797</td>\n",
       "      <td>22.204909</td>\n",
       "      <td>3.172136</td>\n",
       "      <td>1271.427736</td>\n",
       "      <td>...</td>\n",
       "      <td>32.909897</td>\n",
       "      <td>50.788844</td>\n",
       "      <td>3.097012</td>\n",
       "      <td>73.660866</td>\n",
       "      <td>0.722500</td>\n",
       "      <td>1.307656e+08</td>\n",
       "      <td>NaN</td>\n",
       "      <td>NaN</td>\n",
       "      <td>NaN</td>\n",
       "      <td>NaN</td>\n",
       "    </tr>\n",
       "    <tr>\n",
       "      <th>std</th>\n",
       "      <td>6.568130e+07</td>\n",
       "      <td>4854.786157</td>\n",
       "      <td>693.540908</td>\n",
       "      <td>5.747240e+05</td>\n",
       "      <td>92.179347</td>\n",
       "      <td>13.16853</td>\n",
       "      <td>200456.902140</td>\n",
       "      <td>82.962646</td>\n",
       "      <td>11.851812</td>\n",
       "      <td>1322.697453</td>\n",
       "      <td>...</td>\n",
       "      <td>13.621757</td>\n",
       "      <td>32.124848</td>\n",
       "      <td>2.555777</td>\n",
       "      <td>7.405725</td>\n",
       "      <td>0.149398</td>\n",
       "      <td>6.684333e+08</td>\n",
       "      <td>NaN</td>\n",
       "      <td>NaN</td>\n",
       "      <td>NaN</td>\n",
       "      <td>NaN</td>\n",
       "    </tr>\n",
       "    <tr>\n",
       "      <th>min</th>\n",
       "      <td>0.000000e+00</td>\n",
       "      <td>0.000000</td>\n",
       "      <td>0.000000</td>\n",
       "      <td>0.000000e+00</td>\n",
       "      <td>0.000000</td>\n",
       "      <td>0.00000</td>\n",
       "      <td>0.000000</td>\n",
       "      <td>0.000000</td>\n",
       "      <td>0.000000</td>\n",
       "      <td>0.000000</td>\n",
       "      <td>...</td>\n",
       "      <td>7.700000</td>\n",
       "      <td>1.188000</td>\n",
       "      <td>0.100000</td>\n",
       "      <td>53.280000</td>\n",
       "      <td>0.394000</td>\n",
       "      <td>4.700000e+01</td>\n",
       "      <td>NaN</td>\n",
       "      <td>NaN</td>\n",
       "      <td>NaN</td>\n",
       "      <td>NaN</td>\n",
       "    </tr>\n",
       "    <tr>\n",
       "      <th>25%</th>\n",
       "      <td>2.750950e+04</td>\n",
       "      <td>0.000000</td>\n",
       "      <td>0.000000</td>\n",
       "      <td>1.837500e+02</td>\n",
       "      <td>0.000000</td>\n",
       "      <td>0.00000</td>\n",
       "      <td>21257.766500</td>\n",
       "      <td>0.000000</td>\n",
       "      <td>0.000000</td>\n",
       "      <td>144.808250</td>\n",
       "      <td>...</td>\n",
       "      <td>22.600000</td>\n",
       "      <td>20.482000</td>\n",
       "      <td>1.300000</td>\n",
       "      <td>69.545000</td>\n",
       "      <td>0.603000</td>\n",
       "      <td>4.294955e+05</td>\n",
       "      <td>NaN</td>\n",
       "      <td>NaN</td>\n",
       "      <td>NaN</td>\n",
       "      <td>NaN</td>\n",
       "    </tr>\n",
       "    <tr>\n",
       "      <th>50%</th>\n",
       "      <td>2.320985e+05</td>\n",
       "      <td>0.000000</td>\n",
       "      <td>0.000000</td>\n",
       "      <td>2.205500e+03</td>\n",
       "      <td>0.000000</td>\n",
       "      <td>0.00000</td>\n",
       "      <td>135384.895000</td>\n",
       "      <td>0.000000</td>\n",
       "      <td>0.000000</td>\n",
       "      <td>877.689000</td>\n",
       "      <td>...</td>\n",
       "      <td>33.100000</td>\n",
       "      <td>49.690500</td>\n",
       "      <td>2.500000</td>\n",
       "      <td>75.050000</td>\n",
       "      <td>0.740000</td>\n",
       "      <td>5.970430e+06</td>\n",
       "      <td>NaN</td>\n",
       "      <td>NaN</td>\n",
       "      <td>NaN</td>\n",
       "      <td>NaN</td>\n",
       "    </tr>\n",
       "    <tr>\n",
       "      <th>75%</th>\n",
       "      <td>1.703974e+06</td>\n",
       "      <td>5.500000</td>\n",
       "      <td>0.785500</td>\n",
       "      <td>1.938850e+04</td>\n",
       "      <td>0.000000</td>\n",
       "      <td>0.00000</td>\n",
       "      <td>340625.300000</td>\n",
       "      <td>0.232000</td>\n",
       "      <td>0.033250</td>\n",
       "      <td>2032.222000</td>\n",
       "      <td>...</td>\n",
       "      <td>41.300000</td>\n",
       "      <td>82.686750</td>\n",
       "      <td>4.200000</td>\n",
       "      <td>79.285000</td>\n",
       "      <td>0.828750</td>\n",
       "      <td>2.895671e+07</td>\n",
       "      <td>NaN</td>\n",
       "      <td>NaN</td>\n",
       "      <td>NaN</td>\n",
       "      <td>NaN</td>\n",
       "    </tr>\n",
       "    <tr>\n",
       "      <th>max</th>\n",
       "      <td>7.758668e+08</td>\n",
       "      <td>47169.000000</td>\n",
       "      <td>6738.429000</td>\n",
       "      <td>7.057132e+06</td>\n",
       "      <td>815.000000</td>\n",
       "      <td>116.42900</td>\n",
       "      <td>763598.600000</td>\n",
       "      <td>672.437000</td>\n",
       "      <td>96.062000</td>\n",
       "      <td>6601.110000</td>\n",
       "      <td>...</td>\n",
       "      <td>78.100000</td>\n",
       "      <td>100.000000</td>\n",
       "      <td>13.800000</td>\n",
       "      <td>86.750000</td>\n",
       "      <td>0.957000</td>\n",
       "      <td>7.975105e+09</td>\n",
       "      <td>NaN</td>\n",
       "      <td>NaN</td>\n",
       "      <td>NaN</td>\n",
       "      <td>NaN</td>\n",
       "    </tr>\n",
       "  </tbody>\n",
       "</table>\n",
       "<p>8 rows × 63 columns</p>\n",
       "</div>"
      ],
      "text/plain": [
       "        total_cases     new_cases  new_cases_smoothed  total_deaths  \\\n",
       "count  2.460000e+02    242.000000          242.000000  2.460000e+02   \n",
       "mean   1.336634e+07    885.607438          126.515355  1.198689e+05   \n",
       "std    6.568130e+07   4854.786157          693.540908  5.747240e+05   \n",
       "min    0.000000e+00      0.000000            0.000000  0.000000e+00   \n",
       "25%    2.750950e+04      0.000000            0.000000  1.837500e+02   \n",
       "50%    2.320985e+05      0.000000            0.000000  2.205500e+03   \n",
       "75%    1.703974e+06      5.500000            0.785500  1.938850e+04   \n",
       "max    7.758668e+08  47169.000000         6738.429000  7.057132e+06   \n",
       "\n",
       "       new_deaths  new_deaths_smoothed  total_cases_per_million  \\\n",
       "count  243.000000            243.00000               246.000000   \n",
       "mean    14.032922              2.00472            203988.255797   \n",
       "std     92.179347             13.16853            200456.902140   \n",
       "min      0.000000              0.00000                 0.000000   \n",
       "25%      0.000000              0.00000             21257.766500   \n",
       "50%      0.000000              0.00000            135384.895000   \n",
       "75%      0.000000              0.00000            340625.300000   \n",
       "max    815.000000            116.42900            763598.600000   \n",
       "\n",
       "       new_cases_per_million  new_cases_smoothed_per_million  \\\n",
       "count             242.000000                      242.000000   \n",
       "mean               22.204909                        3.172136   \n",
       "std                82.962646                       11.851812   \n",
       "min                 0.000000                        0.000000   \n",
       "25%                 0.000000                        0.000000   \n",
       "50%                 0.000000                        0.000000   \n",
       "75%                 0.232000                        0.033250   \n",
       "max               672.437000                       96.062000   \n",
       "\n",
       "       total_deaths_per_million  ...  male_smokers  handwashing_facilities  \\\n",
       "count                246.000000  ...    145.000000               96.000000   \n",
       "mean                1271.427736  ...     32.909897               50.788844   \n",
       "std                 1322.697453  ...     13.621757               32.124848   \n",
       "min                    0.000000  ...      7.700000                1.188000   \n",
       "25%                  144.808250  ...     22.600000               20.482000   \n",
       "50%                  877.689000  ...     33.100000               49.690500   \n",
       "75%                 2032.222000  ...     41.300000               82.686750   \n",
       "max                 6601.110000  ...     78.100000              100.000000   \n",
       "\n",
       "       hospital_beds_per_thousand  life_expectancy  human_development_index  \\\n",
       "count                  173.000000       231.000000               190.000000   \n",
       "mean                     3.097012        73.660866                 0.722500   \n",
       "std                      2.555777         7.405725                 0.149398   \n",
       "min                      0.100000        53.280000                 0.394000   \n",
       "25%                      1.300000        69.545000                 0.603000   \n",
       "50%                      2.500000        75.050000                 0.740000   \n",
       "75%                      4.200000        79.285000                 0.828750   \n",
       "max                     13.800000        86.750000                 0.957000   \n",
       "\n",
       "         population  excess_mortality_cumulative_absolute  \\\n",
       "count  2.470000e+02                                   0.0   \n",
       "mean   1.307656e+08                                   NaN   \n",
       "std    6.684333e+08                                   NaN   \n",
       "min    4.700000e+01                                   NaN   \n",
       "25%    4.294955e+05                                   NaN   \n",
       "50%    5.970430e+06                                   NaN   \n",
       "75%    2.895671e+07                                   NaN   \n",
       "max    7.975105e+09                                   NaN   \n",
       "\n",
       "       excess_mortality_cumulative  excess_mortality  \\\n",
       "count                          0.0               0.0   \n",
       "mean                           NaN               NaN   \n",
       "std                            NaN               NaN   \n",
       "min                            NaN               NaN   \n",
       "25%                            NaN               NaN   \n",
       "50%                            NaN               NaN   \n",
       "75%                            NaN               NaN   \n",
       "max                            NaN               NaN   \n",
       "\n",
       "       excess_mortality_cumulative_per_million  \n",
       "count                                      0.0  \n",
       "mean                                       NaN  \n",
       "std                                        NaN  \n",
       "min                                        NaN  \n",
       "25%                                        NaN  \n",
       "50%                                        NaN  \n",
       "75%                                        NaN  \n",
       "max                                        NaN  \n",
       "\n",
       "[8 rows x 63 columns]"
      ]
     },
     "execution_count": 16,
     "metadata": {},
     "output_type": "execute_result"
    }
   ],
   "source": [
    "#summary\n",
    "print(f\"Row count: {vaccination_data.shape}\")\n",
    "vaccination_data.describe()"
   ]
  },
  {
   "cell_type": "markdown",
   "id": "b42d9256",
   "metadata": {},
   "source": [
    "## 7. Converting the Pandas DataFrame to a Spark DataFrame\n"
   ]
  },
  {
   "cell_type": "markdown",
   "id": "e8c51087",
   "metadata": {},
   "source": [
    "Let\\'s convert the Pandas DataFrame, which contains our COVID-19 vaccination data, into a Spark DataFrame. This conversion is crucial as it allows us to utilize Spark\\'s distributed computing capabilities, enabling us to handle larger datasets and perform operations in a more efficient manner.\n"
   ]
  },
  {
   "cell_type": "markdown",
   "id": "75c305eb-4aff-43f5-91c9-e827f2e6a1c4",
   "metadata": {},
   "source": [
    "### Defining the schema:\n"
   ]
  },
  {
   "cell_type": "markdown",
   "id": "a6b8c3ac-9e8a-40fa-a82c-d5eaf1008f8b",
   "metadata": {},
   "source": [
    "- **StructType**: \n",
    "  - A class that defines a structure for a DataFrame.\n",
    "\n",
    "- **StructField**: \n",
    "  - Represents a single field in the schema.\n",
    "  - **Parameters**:\n",
    "    1. **Field name**: The name of the field.\n",
    "    2. **Data type**: The type of data for the field.\n",
    "    3. **Nullable**: A boolean indicating whether null values are allowed.\n",
    "\n",
    "- **Data types**:\n",
    "  - **StringType()**: Used for text fields.\n",
    "  - **LongType()**: Used for numerical fields.\n"
   ]
  },
  {
   "cell_type": "markdown",
   "id": "95e48806-3bfb-49ff-8dbf-ce2f4389ac67",
   "metadata": {},
   "source": [
    "### Data type conversion:\n"
   ]
  },
  {
   "cell_type": "markdown",
   "id": "4a8e42fb-c167-4933-a081-34681fd9dbc7",
   "metadata": {},
   "source": [
    "- **astype(str)**: \n",
    "  - Used to convert the `'continent'` column to string type.\n",
    "\n",
    "- **fillna(0)**: \n",
    "  - Replaces any NaN values with 0, ensuring that the numerical fields do not contain any missing data.\n",
    "\n",
    "- **astype('int64')**: \n",
    "  - Converts the columns from potentially mixed types to 64-bit integers for consistent numerical representation.\n"
   ]
  },
  {
   "cell_type": "markdown",
   "id": "4d348633-eb97-4287-8f74-999969660654",
   "metadata": {},
   "source": [
    "### Creating a Spark DataFrame:\n"
   ]
  },
  {
   "cell_type": "markdown",
   "id": "99815da4-edf6-4494-8d4e-290ad1419246",
   "metadata": {},
   "source": [
    "- **createDataFrame**:\n",
    "  - The `createDataFrame` method of the Spark session (`spark`) is called with `vaccination_data` (the Pandas DataFrame) as its argument.\n",
    "  - **Parameters**:\n",
    "    - It takes as input a subset of the pandas DataFrame that corresponds to the fields defined in the schema, accessed using `schema.fieldNames()`.\n",
    "- This function automatically converts the Pandas DataFrame into a Spark DataFrame, which is designed to handle larger data sets across a distributed environment.\n"
   ]
  },
  {
   "cell_type": "markdown",
   "id": "a7999fb9-d772-439e-b3c4-bf3d1cc65553",
   "metadata": {},
   "source": [
    "- The resulting spark_df will have the defined schema, which ensures consistency and compatibility with Spark's data processing capabilities.\n"
   ]
  },
  {
   "cell_type": "markdown",
   "id": "1411dfe1-382b-4edb-9d82-c8175e4c3df6",
   "metadata": {},
   "source": [
    "### Storing the result:\n"
   ]
  },
  {
   "cell_type": "code",
   "execution_count": 22,
   "id": "9bac3c65-ff10-407b-9625-8c406cf4a1ae",
   "metadata": {},
   "outputs": [
    {
     "name": "stderr",
     "output_type": "stream",
     "text": [
      "/home/francd/anaconda3/envs/masterMLpython/lib/python3.12/site-packages/pyspark/sql/pandas/conversion.py:351: UserWarning: createDataFrame attempted Arrow optimization because 'spark.sql.execution.arrow.pyspark.enabled' is set to true; however, failed by the reason below:\n",
      "  sun.misc.Unsafe or java.nio.DirectByteBuffer.<init>(long, int) not available\n",
      "Attempting non-optimization as 'spark.sql.execution.arrow.pyspark.fallback.enabled' is set to true.\n",
      "  warn(msg)\n"
     ]
    },
    {
     "name": "stdout",
     "output_type": "stream",
     "text": [
      "root\n",
      " |-- iso_code: string (nullable = true)\n",
      " |-- continent: string (nullable = true)\n",
      " |-- location: string (nullable = true)\n",
      " |-- last_updated_date: string (nullable = true)\n",
      " |-- total_cases: double (nullable = true)\n",
      " |-- new_cases: double (nullable = true)\n",
      " |-- new_cases_smoothed: double (nullable = true)\n",
      " |-- total_deaths: double (nullable = true)\n",
      " |-- new_deaths: double (nullable = true)\n",
      " |-- new_deaths_smoothed: double (nullable = true)\n",
      " |-- total_cases_per_million: double (nullable = true)\n",
      " |-- new_cases_per_million: double (nullable = true)\n",
      " |-- new_cases_smoothed_per_million: double (nullable = true)\n",
      " |-- total_deaths_per_million: double (nullable = true)\n",
      " |-- new_deaths_per_million: double (nullable = true)\n",
      " |-- new_deaths_smoothed_per_million: double (nullable = true)\n",
      " |-- reproduction_rate: double (nullable = true)\n",
      " |-- icu_patients: double (nullable = true)\n",
      " |-- icu_patients_per_million: double (nullable = true)\n",
      " |-- hosp_patients: double (nullable = true)\n",
      " |-- hosp_patients_per_million: double (nullable = true)\n",
      " |-- weekly_icu_admissions: double (nullable = true)\n",
      " |-- weekly_icu_admissions_per_million: double (nullable = true)\n",
      " |-- weekly_hosp_admissions: double (nullable = true)\n",
      " |-- weekly_hosp_admissions_per_million: double (nullable = true)\n",
      " |-- total_tests: double (nullable = true)\n",
      " |-- new_tests: double (nullable = true)\n",
      " |-- total_tests_per_thousand: double (nullable = true)\n",
      " |-- new_tests_per_thousand: double (nullable = true)\n",
      " |-- new_tests_smoothed: double (nullable = true)\n",
      " |-- new_tests_smoothed_per_thousand: double (nullable = true)\n",
      " |-- positive_rate: double (nullable = true)\n",
      " |-- tests_per_case: double (nullable = true)\n",
      " |-- tests_units: double (nullable = true)\n",
      " |-- total_vaccinations: double (nullable = true)\n",
      " |-- people_vaccinated: double (nullable = true)\n",
      " |-- people_fully_vaccinated: double (nullable = true)\n",
      " |-- total_boosters: double (nullable = true)\n",
      " |-- new_vaccinations: double (nullable = true)\n",
      " |-- new_vaccinations_smoothed: double (nullable = true)\n",
      " |-- total_vaccinations_per_hundred: double (nullable = true)\n",
      " |-- people_vaccinated_per_hundred: double (nullable = true)\n",
      " |-- people_fully_vaccinated_per_hundred: double (nullable = true)\n",
      " |-- total_boosters_per_hundred: double (nullable = true)\n",
      " |-- new_vaccinations_smoothed_per_million: double (nullable = true)\n",
      " |-- new_people_vaccinated_smoothed: double (nullable = true)\n",
      " |-- new_people_vaccinated_smoothed_per_hundred: double (nullable = true)\n",
      " |-- stringency_index: double (nullable = true)\n",
      " |-- population_density: double (nullable = true)\n",
      " |-- median_age: double (nullable = true)\n",
      " |-- aged_65_older: double (nullable = true)\n",
      " |-- aged_70_older: double (nullable = true)\n",
      " |-- gdp_per_capita: double (nullable = true)\n",
      " |-- extreme_poverty: double (nullable = true)\n",
      " |-- cardiovasc_death_rate: double (nullable = true)\n",
      " |-- diabetes_prevalence: double (nullable = true)\n",
      " |-- female_smokers: double (nullable = true)\n",
      " |-- male_smokers: double (nullable = true)\n",
      " |-- handwashing_facilities: double (nullable = true)\n",
      " |-- hospital_beds_per_thousand: double (nullable = true)\n",
      " |-- life_expectancy: double (nullable = true)\n",
      " |-- human_development_index: double (nullable = true)\n",
      " |-- population: double (nullable = true)\n",
      " |-- excess_mortality_cumulative_absolute: double (nullable = true)\n",
      " |-- excess_mortality_cumulative: double (nullable = true)\n",
      " |-- excess_mortality: double (nullable = true)\n",
      " |-- excess_mortality_cumulative_per_million: double (nullable = true)\n",
      "\n"
     ]
    },
    {
     "name": "stderr",
     "output_type": "stream",
     "text": [
      "25/02/07 21:25:48 WARN SparkStringUtils: Truncated the string representation of a plan since it was too large. This behavior can be adjusted by setting 'spark.sql.debug.maxToStringFields'.\n",
      "                                                                                "
     ]
    },
    {
     "name": "stdout",
     "output_type": "stream",
     "text": [
      "+--------+-------------+-------------------+-----------------+------------+---------+------------------+------------+----------+-------------------+-----------------------+---------------------+------------------------------+------------------------+----------------------+-------------------------------+-----------------+------------+------------------------+-------------+-------------------------+---------------------+---------------------------------+----------------------+----------------------------------+-----------+---------+------------------------+----------------------+------------------+-------------------------------+-------------+--------------+-----------+------------------+-----------------+-----------------------+--------------+----------------+-------------------------+------------------------------+-----------------------------+-----------------------------------+--------------------------+-------------------------------------+------------------------------+------------------------------------------+----------------+------------------+----------+-------------+-------------+--------------+---------------+---------------------+-------------------+--------------+------------+----------------------+--------------------------+---------------+-----------------------+-------------+------------------------------------+---------------------------+----------------+---------------------------------------+\n",
      "|iso_code|    continent|           location|last_updated_date| total_cases|new_cases|new_cases_smoothed|total_deaths|new_deaths|new_deaths_smoothed|total_cases_per_million|new_cases_per_million|new_cases_smoothed_per_million|total_deaths_per_million|new_deaths_per_million|new_deaths_smoothed_per_million|reproduction_rate|icu_patients|icu_patients_per_million|hosp_patients|hosp_patients_per_million|weekly_icu_admissions|weekly_icu_admissions_per_million|weekly_hosp_admissions|weekly_hosp_admissions_per_million|total_tests|new_tests|total_tests_per_thousand|new_tests_per_thousand|new_tests_smoothed|new_tests_smoothed_per_thousand|positive_rate|tests_per_case|tests_units|total_vaccinations|people_vaccinated|people_fully_vaccinated|total_boosters|new_vaccinations|new_vaccinations_smoothed|total_vaccinations_per_hundred|people_vaccinated_per_hundred|people_fully_vaccinated_per_hundred|total_boosters_per_hundred|new_vaccinations_smoothed_per_million|new_people_vaccinated_smoothed|new_people_vaccinated_smoothed_per_hundred|stringency_index|population_density|median_age|aged_65_older|aged_70_older|gdp_per_capita|extreme_poverty|cardiovasc_death_rate|diabetes_prevalence|female_smokers|male_smokers|handwashing_facilities|hospital_beds_per_thousand|life_expectancy|human_development_index|   population|excess_mortality_cumulative_absolute|excess_mortality_cumulative|excess_mortality|excess_mortality_cumulative_per_million|\n",
      "+--------+-------------+-------------------+-----------------+------------+---------+------------------+------------+----------+-------------------+-----------------------+---------------------+------------------------------+------------------------+----------------------+-------------------------------+-----------------+------------+------------------------+-------------+-------------------------+---------------------+---------------------------------+----------------------+----------------------------------+-----------+---------+------------------------+----------------------+------------------+-------------------------------+-------------+--------------+-----------+------------------+-----------------+-----------------------+--------------+----------------+-------------------------+------------------------------+-----------------------------+-----------------------------------+--------------------------+-------------------------------------+------------------------------+------------------------------------------+----------------+------------------+----------+-------------+-------------+--------------+---------------+---------------------+-------------------+--------------+------------+----------------------+--------------------------+---------------+-----------------------+-------------+------------------------------------+---------------------------+----------------+---------------------------------------+\n",
      "|     AFG|         Asia|        Afghanistan|       2024-08-04|    235214.0|      0.0|               0.0|      7998.0|       0.0|                0.0|               5796.468|                  0.0|                           0.0|                 197.098|                   0.0|                            0.0|              NaN|         NaN|                     NaN|          NaN|                      NaN|                  NaN|                              NaN|                   NaN|                               NaN|        NaN|      NaN|                     NaN|                   NaN|               NaN|                            NaN|          NaN|           NaN|        NaN|               NaN|              NaN|                    NaN|           NaN|             NaN|                      NaN|                           NaN|                          NaN|                                NaN|                       NaN|                                  NaN|                           NaN|                                       NaN|             NaN|            54.422|      18.6|        2.581|        1.337|      1803.987|            NaN|              597.029|               9.59|           NaN|         NaN|                37.746|                       0.5|          64.83|                  0.511|  4.1128772E7|                                 NaN|                        NaN|             NaN|                                    NaN|\n",
      "|OWID_AFR|          NaN|             Africa|       2024-08-04|  1.314538E7|     36.0|             5.143|    259117.0|       0.0|                0.0|               9088.877|                0.025|                         0.004|                 179.157|                   0.0|                            0.0|              NaN|         NaN|                     NaN|          NaN|                      NaN|                  NaN|                              NaN|                   NaN|                               NaN|        NaN|      NaN|                     NaN|                   NaN|               NaN|                            NaN|          NaN|           NaN|        NaN|               NaN|              NaN|                    NaN|           NaN|             NaN|                      NaN|                           NaN|                          NaN|                                NaN|                       NaN|                                  NaN|                           NaN|                                       NaN|             NaN|               NaN|       NaN|          NaN|          NaN|           NaN|            NaN|                  NaN|                NaN|           NaN|         NaN|                   NaN|                       NaN|            NaN|                    NaN|1.426736614E9|                                 NaN|                        NaN|             NaN|                                    NaN|\n",
      "|     ALB|       Europe|            Albania|       2024-08-04|    335047.0|      0.0|               0.0|      3605.0|       0.0|                0.0|              118491.02|                  0.0|                           0.0|                1274.926|                   0.0|                            0.0|              NaN|         NaN|                     NaN|          NaN|                      NaN|                  NaN|                              NaN|                   NaN|                               NaN|        NaN|      NaN|                     NaN|                   NaN|               NaN|                            NaN|          NaN|           NaN|        NaN|               NaN|              NaN|                    NaN|           NaN|             NaN|                      NaN|                           NaN|                          NaN|                                NaN|                       NaN|                                  NaN|                           NaN|                                       NaN|             NaN|           104.871|      38.0|       13.188|        8.643|     11803.431|            1.1|              304.195|              10.08|           7.1|        51.2|                   NaN|                      2.89|          78.57|                  0.795|    2842318.0|                                 NaN|                        NaN|             NaN|                                    NaN|\n",
      "|     DZA|       Africa|            Algeria|       2024-08-04|    272139.0|     18.0|             2.571|      6881.0|       0.0|                0.0|                5984.05|                0.396|                         0.057|                 151.306|                   0.0|                            0.0|              NaN|         NaN|                     NaN|          NaN|                      NaN|                  NaN|                              NaN|                   NaN|                               NaN|        NaN|      NaN|                     NaN|                   NaN|               NaN|                            NaN|          NaN|           NaN|        NaN|               NaN|              NaN|                    NaN|           NaN|             NaN|                      NaN|                           NaN|                          NaN|                                NaN|                       NaN|                                  NaN|                           NaN|                                       NaN|             NaN|            17.348|      29.1|        6.211|        3.857|     13913.839|            0.5|              278.364|               6.73|           0.7|        30.4|                83.741|                       1.9|          76.88|                  0.748|  4.4903228E7|                                 NaN|                        NaN|             NaN|                                    NaN|\n",
      "|     ASM|      Oceania|     American Samoa|       2024-08-04|      8359.0|      0.0|               0.0|        34.0|       0.0|                0.0|               172831.6|                  0.0|                           0.0|                 702.988|                   0.0|                            0.0|              NaN|         NaN|                     NaN|          NaN|                      NaN|                  NaN|                              NaN|                   NaN|                               NaN|        NaN|      NaN|                     NaN|                   NaN|               NaN|                            NaN|          NaN|           NaN|        NaN|               NaN|              NaN|                    NaN|           NaN|             NaN|                      NaN|                           NaN|                          NaN|                                NaN|                       NaN|                                  NaN|                           NaN|                                       NaN|             NaN|           278.205|       NaN|          NaN|          NaN|           NaN|            NaN|               283.75|                NaN|           NaN|         NaN|                   NaN|                       NaN|          73.74|                    NaN|      44295.0|                                 NaN|                        NaN|             NaN|                                    NaN|\n",
      "|     AND|       Europe|            Andorra|       2024-08-04|     48015.0|      0.0|               0.0|       159.0|       0.0|                0.0|              602280.44|                  0.0|                           0.0|                1994.431|                   0.0|                            0.0|              NaN|         NaN|                     NaN|          NaN|                      NaN|                  NaN|                              NaN|                   NaN|                               NaN|        NaN|      NaN|                     NaN|                   NaN|               NaN|                            NaN|          NaN|           NaN|        NaN|               NaN|              NaN|                    NaN|           NaN|             NaN|                      NaN|                           NaN|                          NaN|                                NaN|                       NaN|                                  NaN|                           NaN|                                       NaN|             NaN|           163.755|       NaN|          NaN|          NaN|           NaN|            NaN|              109.135|               7.97|          29.0|        37.8|                   NaN|                       NaN|          83.73|                  0.868|      79843.0|                                 NaN|                        NaN|             NaN|                                    NaN|\n",
      "|     AGO|       Africa|             Angola|       2024-08-04|    107481.0|      0.0|               0.0|      1937.0|       0.0|                0.0|               3016.162|                  0.0|                           0.0|                  54.357|                   0.0|                            0.0|              NaN|         NaN|                     NaN|          NaN|                      NaN|                  NaN|                              NaN|                   NaN|                               NaN|        NaN|      NaN|                     NaN|                   NaN|               NaN|                            NaN|          NaN|           NaN|        NaN|               NaN|              NaN|                    NaN|           NaN|             NaN|                      NaN|                           NaN|                          NaN|                                NaN|                       NaN|                                  NaN|                           NaN|                                       NaN|             NaN|             23.89|      16.8|        2.405|        1.362|      5819.495|            NaN|              276.045|               3.94|           NaN|         NaN|                26.664|                       NaN|          61.15|                  0.581|  3.5588996E7|                                 NaN|                        NaN|             NaN|                                    NaN|\n",
      "|     AIA|North America|           Anguilla|       2024-08-04|      3904.0|      0.0|               0.0|        12.0|       0.0|                0.0|              274890.88|                  0.0|                           0.0|                 844.951|                   0.0|                            0.0|              NaN|         NaN|                     NaN|          NaN|                      NaN|                  NaN|                              NaN|                   NaN|                               NaN|        NaN|      NaN|                     NaN|                   NaN|               NaN|                            NaN|          NaN|           NaN|        NaN|               NaN|              NaN|                    NaN|           NaN|             NaN|                      NaN|                           NaN|                          NaN|                                NaN|                       NaN|                                  NaN|                           NaN|                                       NaN|             NaN|               NaN|       NaN|          NaN|          NaN|           NaN|            NaN|                  NaN|                NaN|           NaN|         NaN|                   NaN|                       NaN|          81.88|                    NaN|      15877.0|                                 NaN|                        NaN|             NaN|                                    NaN|\n",
      "|     ATG|North America|Antigua and Barbuda|       2024-08-04|      9106.0|      0.0|               0.0|       146.0|       0.0|                0.0|                98071.1|                  0.0|                           0.0|                1572.412|                   0.0|                            0.0|              NaN|         NaN|                     NaN|          NaN|                      NaN|                  NaN|                              NaN|                   NaN|                               NaN|        NaN|      NaN|                     NaN|                   NaN|               NaN|                            NaN|          NaN|           NaN|        NaN|               NaN|              NaN|                    NaN|           NaN|             NaN|                      NaN|                           NaN|                          NaN|                                NaN|                       NaN|                                  NaN|                           NaN|                                       NaN|             NaN|           231.845|      32.1|        6.933|        4.631|     21490.943|            NaN|              191.511|              13.17|           NaN|         NaN|                   NaN|                       3.8|          77.02|                  0.778|      93772.0|                                 NaN|                        NaN|             NaN|                                    NaN|\n",
      "|     ARG|South America|          Argentina|       2024-08-04| 1.0101218E7|     54.0|             7.714|    130663.0|       1.0|              0.143|              222455.06|                1.189|                          0.17|                2877.538|                 0.022|                          0.003|              NaN|         NaN|                     NaN|          NaN|                      NaN|                  NaN|                              NaN|                   NaN|                               NaN|        NaN|      NaN|                     NaN|                   NaN|               NaN|                            NaN|          NaN|           NaN|        NaN|               NaN|              NaN|                    NaN|           NaN|             NaN|                      NaN|                           NaN|                          NaN|                                NaN|                       NaN|                                  NaN|                           NaN|                                       NaN|             NaN|            16.177|      31.9|       11.198|        7.441|     18933.907|            0.6|              191.032|                5.5|          16.2|        27.7|                   NaN|                       5.0|          76.67|                  0.845|  4.5510324E7|                                 NaN|                        NaN|             NaN|                                    NaN|\n",
      "|     ARM|         Asia|            Armenia|       2024-08-04|    452273.0|      0.0|               0.0|      8777.0|       0.0|                0.0|              156991.11|                  0.0|                           0.0|                3046.635|                   0.0|                            0.0|              NaN|         NaN|                     NaN|          NaN|                      NaN|                  NaN|                              NaN|                   NaN|                               NaN|        NaN|      NaN|                     NaN|                   NaN|               NaN|                            NaN|          NaN|           NaN|        NaN|               NaN|              NaN|                    NaN|           NaN|             NaN|                      NaN|                           NaN|                          NaN|                                NaN|                       NaN|                                  NaN|                           NaN|                                       NaN|             NaN|           102.931|      35.7|       11.232|        7.571|       8787.58|            1.8|               341.01|               7.11|           1.5|        52.1|                94.043|                       4.2|          75.09|                  0.776|    2780472.0|                                 NaN|                        NaN|             NaN|                                    NaN|\n",
      "|     ABW|North America|              Aruba|       2024-08-04|     44224.0|      0.0|               0.0|       292.0|       0.0|                0.0|              410271.62|                  0.0|                           0.0|                2708.921|                   0.0|                            0.0|              NaN|         NaN|                     NaN|          NaN|                      NaN|                  NaN|                              NaN|                   NaN|                               NaN|        NaN|      NaN|                     NaN|                   NaN|               NaN|                            NaN|          NaN|           NaN|        NaN|               NaN|              NaN|                    NaN|           NaN|             NaN|                      NaN|                           NaN|                          NaN|                                NaN|                       NaN|                                  NaN|                           NaN|                                       NaN|             NaN|             584.8|      41.2|       13.085|        7.452|     35973.781|            NaN|                  NaN|              11.62|           NaN|         NaN|                   NaN|                       NaN|          76.29|                    NaN|     106459.0|                                 NaN|                        NaN|             NaN|                                    NaN|\n",
      "|OWID_ASI|          NaN|               Asia|       2024-08-14|3.01499099E8|   4515.0|             645.0|   1637249.0|      17.0|              2.429|                63948.2|                0.958|                         0.137|                 347.262|                 0.004|                          0.001|              NaN|         NaN|                     NaN|          NaN|                      NaN|                  NaN|                              NaN|                   NaN|                               NaN|        NaN|      NaN|                     NaN|                   NaN|               NaN|                            NaN|          NaN|           NaN|        NaN|     9.104304615E9|    3.689438947E9|          3.462095463E9| 1.815176944E9|           258.0|                    193.0|                        192.83|                        78.14|                              73.33|                     38.45|                                  0.0|                          10.0|                                       0.0|             NaN|               NaN|       NaN|          NaN|          NaN|           NaN|            NaN|                  NaN|                NaN|           NaN|         NaN|                   NaN|                       NaN|            NaN|                    NaN| 4.72138337E9|                                 NaN|                        NaN|             NaN|                                    NaN|\n",
      "|     AUS|      Oceania|          Australia|       2024-08-04| 1.1861161E7|      0.0|               0.0|     25236.0|       0.0|                0.0|               452699.0|                  0.0|                           0.0|                  963.17|                   0.0|                            0.0|              NaN|         NaN|                     NaN|          NaN|                      NaN|                  NaN|                              NaN|                   NaN|                               NaN|        NaN|      NaN|                     NaN|                   NaN|               NaN|                            NaN|          NaN|           NaN|        NaN|               NaN|              NaN|                    NaN|           NaN|             NaN|                      NaN|                           NaN|                          NaN|                                NaN|                       NaN|                                  NaN|                           NaN|                                       NaN|             NaN|             3.202|      37.9|       15.504|       10.129|      44648.71|            0.5|              107.791|               5.07|          13.0|        16.5|                   NaN|                      3.84|          83.44|                  0.944|   2.617741E7|                                 NaN|                        NaN|             NaN|                                    NaN|\n",
      "|     AUT|       Europe|            Austria|       2024-08-04|   6082444.0|     15.0|             2.143|     22534.0|       0.0|                0.0|               671004.9|                1.655|                         0.236|                2485.912|                   0.0|                            0.0|              NaN|         NaN|                     NaN|          NaN|                      NaN|                  NaN|                              NaN|                   NaN|                               NaN|        NaN|      NaN|                     NaN|                   NaN|               NaN|                            NaN|          NaN|           NaN|        NaN|               NaN|              NaN|                    NaN|           NaN|             NaN|                      NaN|                           NaN|                          NaN|                                NaN|                       NaN|                                  NaN|                           NaN|                                       NaN|             NaN|           106.749|      44.4|       19.202|       13.748|     45436.686|            0.7|              145.183|               6.35|          28.4|        30.9|                   NaN|                      7.37|          81.54|                  0.922|    8939617.0|                                 NaN|                        NaN|             NaN|                                    NaN|\n",
      "|     AZE|         Asia|         Azerbaijan|       2024-08-04|    835757.0|     63.0|               9.0|     10353.0|       0.0|                0.0|              81178.445|                6.119|                         0.874|                1005.604|                   0.0|                            0.0|              NaN|         NaN|                     NaN|          NaN|                      NaN|                  NaN|                              NaN|                   NaN|                               NaN|        NaN|      NaN|                     NaN|                   NaN|               NaN|                            NaN|          NaN|           NaN|        NaN|               NaN|              NaN|                    NaN|           NaN|             NaN|                      NaN|                           NaN|                          NaN|                                NaN|                       NaN|                                  NaN|                           NaN|                                       NaN|             NaN|           119.309|      32.4|        6.018|        3.871|     15847.419|            NaN|              559.812|               7.11|           0.3|        42.5|                83.241|                       4.7|           73.0|                  0.756|  1.0358078E7|                                 NaN|                        NaN|             NaN|                                    NaN|\n",
      "|     BHS|North America|            Bahamas|       2024-08-04|     39127.0|      0.0|               0.0|       849.0|       0.0|                0.0|               98421.81|                  0.0|                           0.0|                2135.612|                   0.0|                            0.0|              NaN|         NaN|                     NaN|          NaN|                      NaN|                  NaN|                              NaN|                   NaN|                               NaN|        NaN|      NaN|                     NaN|                   NaN|               NaN|                            NaN|          NaN|           NaN|        NaN|               NaN|              NaN|                    NaN|           NaN|             NaN|                      NaN|                           NaN|                          NaN|                                NaN|                       NaN|                                  NaN|                           NaN|                                       NaN|             NaN|            39.497|      34.3|        8.996|          5.2|     27717.847|            NaN|              235.954|              13.17|           3.1|        20.4|                   NaN|                       2.9|          73.92|                  0.814|     409989.0|                                 NaN|                        NaN|             NaN|                                    NaN|\n",
      "|     BHR|         Asia|            Bahrain|       2024-08-04|    696614.0|      0.0|               0.0|      1536.0|       0.0|                0.0|              454276.25|                  0.0|                           0.0|                1001.657|                   0.0|                            0.0|              NaN|         NaN|                     NaN|          NaN|                      NaN|                  NaN|                              NaN|                   NaN|                               NaN|        NaN|      NaN|                     NaN|                   NaN|               NaN|                            NaN|          NaN|           NaN|        NaN|               NaN|              NaN|                    NaN|           NaN|             NaN|                      NaN|                           NaN|                          NaN|                                NaN|                       NaN|                                  NaN|                           NaN|                                       NaN|             NaN|          1935.907|      32.4|        2.372|        1.387|     43290.705|            NaN|              151.689|              16.52|           5.8|        37.6|                   NaN|                       2.0|          77.29|                  0.852|    1472237.0|                                 NaN|                        NaN|             NaN|                                    NaN|\n",
      "|     BGD|         Asia|         Bangladesh|       2024-08-04|   2051348.0|     40.0|             5.714|     29499.0|       0.0|                0.0|              12110.572|                0.236|                         0.034|                 174.154|                   0.0|                            0.0|              NaN|         NaN|                     NaN|          NaN|                      NaN|                  NaN|                              NaN|                   NaN|                               NaN|        NaN|      NaN|                     NaN|                   NaN|               NaN|                            NaN|          NaN|           NaN|        NaN|               NaN|              NaN|                    NaN|           NaN|             NaN|                      NaN|                           NaN|                          NaN|                                NaN|                       NaN|                                  NaN|                           NaN|                                       NaN|             NaN|          1265.036|      27.5|        5.098|        3.262|      3523.984|           14.8|              298.003|               8.38|           1.0|        44.7|                34.808|                       0.8|          72.59|                  0.632| 1.71186368E8|                                 NaN|                        NaN|             NaN|                                    NaN|\n",
      "|     BRB|North America|           Barbados|       2024-08-04|    108582.0|     57.0|             8.143|       593.0|       0.0|                0.0|               384600.7|              201.896|                        28.842|                2100.424|                   0.0|                            0.0|              NaN|         NaN|                     NaN|          NaN|                      NaN|                  NaN|                              NaN|                   NaN|                               NaN|        NaN|      NaN|                     NaN|                   NaN|               NaN|                            NaN|          NaN|           NaN|        NaN|               NaN|              NaN|                    NaN|           NaN|             NaN|                      NaN|                           NaN|                          NaN|                                NaN|                       NaN|                                  NaN|                           NaN|                                       NaN|             NaN|           664.463|      39.8|       14.952|        9.473|     16978.068|            NaN|               170.05|              13.57|           1.9|        14.5|                88.469|                       5.8|          79.19|                  0.814|     281646.0|                                 NaN|                        NaN|             NaN|                                    NaN|\n",
      "+--------+-------------+-------------------+-----------------+------------+---------+------------------+------------+----------+-------------------+-----------------------+---------------------+------------------------------+------------------------+----------------------+-------------------------------+-----------------+------------+------------------------+-------------+-------------------------+---------------------+---------------------------------+----------------------+----------------------------------+-----------+---------+------------------------+----------------------+------------------+-------------------------------+-------------+--------------+-----------+------------------+-----------------+-----------------------+--------------+----------------+-------------------------+------------------------------+-----------------------------+-----------------------------------+--------------------------+-------------------------------------+------------------------------+------------------------------------------+----------------+------------------+----------+-------------+-------------+--------------+---------------+---------------------+-------------------+--------------+------------+----------------------+--------------------------+---------------+-----------------------+-------------+------------------------------------+---------------------------+----------------+---------------------------------------+\n",
      "only showing top 20 rows\n",
      "\n"
     ]
    }
   ],
   "source": [
    "# type(vaccination_data)  -> vaccination_data\n",
    "\n",
    "#Create PySpark DataFrame from Pandas\n",
    "sparkDF=spark.createDataFrame(vaccination_data) \n",
    "sparkDF.printSchema()\n",
    "sparkDF.show()"
   ]
  },
  {
   "cell_type": "markdown",
   "id": "e8efcae4",
   "metadata": {},
   "source": [
    "## 8. Checking the structure of the Spark DataFrame\n"
   ]
  },
  {
   "cell_type": "markdown",
   "id": "8e429aa1",
   "metadata": {},
   "source": [
    "In this section, Let\\'s examine the structure of the Spark DataFrame that we created from the Pandas DataFrame. Understanding the schema of a DataFrame is crucial as it provides insight into the data types of each column and helps ensure that the data is organized correctly for analysis.\n"
   ]
  },
  {
   "cell_type": "markdown",
   "id": "49166db1-b330-4f52-b99e-910170287f3a",
   "metadata": {},
   "source": [
    "### Displaying the schema:\n",
    "\n",
    "- The method `spark_df.printSchema()` is called to output the structure of the Spark DataFrame.\n",
    "- This method prints the names of the columns along with their data types (e.g., `StringType`, `IntegerType`, `DoubleType`, etc.), providing a clear view of how the data is organized.\n"
   ]
  },
  {
   "cell_type": "code",
   "execution_count": 25,
   "id": "555080e5",
   "metadata": {},
   "outputs": [
    {
     "name": "stdout",
     "output_type": "stream",
     "text": [
      "Schema of the Spark DataFrame:\n",
      "root\n",
      " |-- iso_code: string (nullable = true)\n",
      " |-- continent: string (nullable = true)\n",
      " |-- location: string (nullable = true)\n",
      " |-- last_updated_date: string (nullable = true)\n",
      " |-- total_cases: double (nullable = true)\n",
      " |-- new_cases: double (nullable = true)\n",
      " |-- new_cases_smoothed: double (nullable = true)\n",
      " |-- total_deaths: double (nullable = true)\n",
      " |-- new_deaths: double (nullable = true)\n",
      " |-- new_deaths_smoothed: double (nullable = true)\n",
      " |-- total_cases_per_million: double (nullable = true)\n",
      " |-- new_cases_per_million: double (nullable = true)\n",
      " |-- new_cases_smoothed_per_million: double (nullable = true)\n",
      " |-- total_deaths_per_million: double (nullable = true)\n",
      " |-- new_deaths_per_million: double (nullable = true)\n",
      " |-- new_deaths_smoothed_per_million: double (nullable = true)\n",
      " |-- reproduction_rate: double (nullable = true)\n",
      " |-- icu_patients: double (nullable = true)\n",
      " |-- icu_patients_per_million: double (nullable = true)\n",
      " |-- hosp_patients: double (nullable = true)\n",
      " |-- hosp_patients_per_million: double (nullable = true)\n",
      " |-- weekly_icu_admissions: double (nullable = true)\n",
      " |-- weekly_icu_admissions_per_million: double (nullable = true)\n",
      " |-- weekly_hosp_admissions: double (nullable = true)\n",
      " |-- weekly_hosp_admissions_per_million: double (nullable = true)\n",
      " |-- total_tests: double (nullable = true)\n",
      " |-- new_tests: double (nullable = true)\n",
      " |-- total_tests_per_thousand: double (nullable = true)\n",
      " |-- new_tests_per_thousand: double (nullable = true)\n",
      " |-- new_tests_smoothed: double (nullable = true)\n",
      " |-- new_tests_smoothed_per_thousand: double (nullable = true)\n",
      " |-- positive_rate: double (nullable = true)\n",
      " |-- tests_per_case: double (nullable = true)\n",
      " |-- tests_units: double (nullable = true)\n",
      " |-- total_vaccinations: double (nullable = true)\n",
      " |-- people_vaccinated: double (nullable = true)\n",
      " |-- people_fully_vaccinated: double (nullable = true)\n",
      " |-- total_boosters: double (nullable = true)\n",
      " |-- new_vaccinations: double (nullable = true)\n",
      " |-- new_vaccinations_smoothed: double (nullable = true)\n",
      " |-- total_vaccinations_per_hundred: double (nullable = true)\n",
      " |-- people_vaccinated_per_hundred: double (nullable = true)\n",
      " |-- people_fully_vaccinated_per_hundred: double (nullable = true)\n",
      " |-- total_boosters_per_hundred: double (nullable = true)\n",
      " |-- new_vaccinations_smoothed_per_million: double (nullable = true)\n",
      " |-- new_people_vaccinated_smoothed: double (nullable = true)\n",
      " |-- new_people_vaccinated_smoothed_per_hundred: double (nullable = true)\n",
      " |-- stringency_index: double (nullable = true)\n",
      " |-- population_density: double (nullable = true)\n",
      " |-- median_age: double (nullable = true)\n",
      " |-- aged_65_older: double (nullable = true)\n",
      " |-- aged_70_older: double (nullable = true)\n",
      " |-- gdp_per_capita: double (nullable = true)\n",
      " |-- extreme_poverty: double (nullable = true)\n",
      " |-- cardiovasc_death_rate: double (nullable = true)\n",
      " |-- diabetes_prevalence: double (nullable = true)\n",
      " |-- female_smokers: double (nullable = true)\n",
      " |-- male_smokers: double (nullable = true)\n",
      " |-- handwashing_facilities: double (nullable = true)\n",
      " |-- hospital_beds_per_thousand: double (nullable = true)\n",
      " |-- life_expectancy: double (nullable = true)\n",
      " |-- human_development_index: double (nullable = true)\n",
      " |-- population: double (nullable = true)\n",
      " |-- excess_mortality_cumulative_absolute: double (nullable = true)\n",
      " |-- excess_mortality_cumulative: double (nullable = true)\n",
      " |-- excess_mortality: double (nullable = true)\n",
      " |-- excess_mortality_cumulative_per_million: double (nullable = true)\n",
      "\n"
     ]
    }
   ],
   "source": [
    "print(\"Schema of the Spark DataFrame:\")\n",
    "sparkDF.printSchema()\n",
    "# Print the structure of the DataFrame (columns and types)"
   ]
  },
  {
   "cell_type": "markdown",
   "id": "d1b3d525",
   "metadata": {},
   "source": [
    "## 9. Basic data exploration\n"
   ]
  },
  {
   "cell_type": "markdown",
   "id": "5358f341",
   "metadata": {},
   "source": [
    "In this section, let\\'s perform basic data exploration on the Spark DataFrame. This step is essential for understanding the data set better, allowing us to gain insights and identify any patterns or anomalies. Let\\'s demonstrate how to view specific contents of the DataFrame, select certain columns, and filter records based on conditions.\n"
   ]
  },
  {
   "cell_type": "markdown",
   "id": "93d9f700-26fb-423f-b434-b5a14b849c0a",
   "metadata": {},
   "source": [
    "### 9.1 Viewing DataFrame contents\n"
   ]
  },
  {
   "cell_type": "markdown",
   "id": "f4df4892-8b53-4be1-95e6-7eb41a5e5ded",
   "metadata": {},
   "source": [
    "- To view the contents in the DataFrame, use the following code:\n"
   ]
  },
  {
   "cell_type": "code",
   "execution_count": 35,
   "id": "e31c016e-8623-47f7-8562-7c15254e1109",
   "metadata": {},
   "outputs": [
    {
     "name": "stdout",
     "output_type": "stream",
     "text": [
      "+--------+---------+-----------+-----------------+-----------+---------+------------------+------------+----------+-------------------+-----------------------+---------------------+------------------------------+------------------------+----------------------+-------------------------------+-----------------+------------+------------------------+-------------+-------------------------+---------------------+---------------------------------+----------------------+----------------------------------+-----------+---------+------------------------+----------------------+------------------+-------------------------------+-------------+--------------+-----------+------------------+-----------------+-----------------------+--------------+----------------+-------------------------+------------------------------+-----------------------------+-----------------------------------+--------------------------+-------------------------------------+------------------------------+------------------------------------------+----------------+------------------+----------+-------------+-------------+--------------+---------------+---------------------+-------------------+--------------+------------+----------------------+--------------------------+---------------+-----------------------+-------------+------------------------------------+---------------------------+----------------+---------------------------------------+\n",
      "|iso_code|continent|   location|last_updated_date|total_cases|new_cases|new_cases_smoothed|total_deaths|new_deaths|new_deaths_smoothed|total_cases_per_million|new_cases_per_million|new_cases_smoothed_per_million|total_deaths_per_million|new_deaths_per_million|new_deaths_smoothed_per_million|reproduction_rate|icu_patients|icu_patients_per_million|hosp_patients|hosp_patients_per_million|weekly_icu_admissions|weekly_icu_admissions_per_million|weekly_hosp_admissions|weekly_hosp_admissions_per_million|total_tests|new_tests|total_tests_per_thousand|new_tests_per_thousand|new_tests_smoothed|new_tests_smoothed_per_thousand|positive_rate|tests_per_case|tests_units|total_vaccinations|people_vaccinated|people_fully_vaccinated|total_boosters|new_vaccinations|new_vaccinations_smoothed|total_vaccinations_per_hundred|people_vaccinated_per_hundred|people_fully_vaccinated_per_hundred|total_boosters_per_hundred|new_vaccinations_smoothed_per_million|new_people_vaccinated_smoothed|new_people_vaccinated_smoothed_per_hundred|stringency_index|population_density|median_age|aged_65_older|aged_70_older|gdp_per_capita|extreme_poverty|cardiovasc_death_rate|diabetes_prevalence|female_smokers|male_smokers|handwashing_facilities|hospital_beds_per_thousand|life_expectancy|human_development_index|   population|excess_mortality_cumulative_absolute|excess_mortality_cumulative|excess_mortality|excess_mortality_cumulative_per_million|\n",
      "+--------+---------+-----------+-----------------+-----------+---------+------------------+------------+----------+-------------------+-----------------------+---------------------+------------------------------+------------------------+----------------------+-------------------------------+-----------------+------------+------------------------+-------------+-------------------------+---------------------+---------------------------------+----------------------+----------------------------------+-----------+---------+------------------------+----------------------+------------------+-------------------------------+-------------+--------------+-----------+------------------+-----------------+-----------------------+--------------+----------------+-------------------------+------------------------------+-----------------------------+-----------------------------------+--------------------------+-------------------------------------+------------------------------+------------------------------------------+----------------+------------------+----------+-------------+-------------+--------------+---------------+---------------------+-------------------+--------------+------------+----------------------+--------------------------+---------------+-----------------------+-------------+------------------------------------+---------------------------+----------------+---------------------------------------+\n",
      "|     AFG|     Asia|Afghanistan|       2024-08-04|   235214.0|      0.0|               0.0|      7998.0|       0.0|                0.0|               5796.468|                  0.0|                           0.0|                 197.098|                   0.0|                            0.0|              NaN|         NaN|                     NaN|          NaN|                      NaN|                  NaN|                              NaN|                   NaN|                               NaN|        NaN|      NaN|                     NaN|                   NaN|               NaN|                            NaN|          NaN|           NaN|        NaN|               NaN|              NaN|                    NaN|           NaN|             NaN|                      NaN|                           NaN|                          NaN|                                NaN|                       NaN|                                  NaN|                           NaN|                                       NaN|             NaN|            54.422|      18.6|        2.581|        1.337|      1803.987|            NaN|              597.029|               9.59|           NaN|         NaN|                37.746|                       0.5|          64.83|                  0.511|  4.1128772E7|                                 NaN|                        NaN|             NaN|                                    NaN|\n",
      "|OWID_AFR|      NaN|     Africa|       2024-08-04| 1.314538E7|     36.0|             5.143|    259117.0|       0.0|                0.0|               9088.877|                0.025|                         0.004|                 179.157|                   0.0|                            0.0|              NaN|         NaN|                     NaN|          NaN|                      NaN|                  NaN|                              NaN|                   NaN|                               NaN|        NaN|      NaN|                     NaN|                   NaN|               NaN|                            NaN|          NaN|           NaN|        NaN|               NaN|              NaN|                    NaN|           NaN|             NaN|                      NaN|                           NaN|                          NaN|                                NaN|                       NaN|                                  NaN|                           NaN|                                       NaN|             NaN|               NaN|       NaN|          NaN|          NaN|           NaN|            NaN|                  NaN|                NaN|           NaN|         NaN|                   NaN|                       NaN|            NaN|                    NaN|1.426736614E9|                                 NaN|                        NaN|             NaN|                                    NaN|\n",
      "|     ALB|   Europe|    Albania|       2024-08-04|   335047.0|      0.0|               0.0|      3605.0|       0.0|                0.0|              118491.02|                  0.0|                           0.0|                1274.926|                   0.0|                            0.0|              NaN|         NaN|                     NaN|          NaN|                      NaN|                  NaN|                              NaN|                   NaN|                               NaN|        NaN|      NaN|                     NaN|                   NaN|               NaN|                            NaN|          NaN|           NaN|        NaN|               NaN|              NaN|                    NaN|           NaN|             NaN|                      NaN|                           NaN|                          NaN|                                NaN|                       NaN|                                  NaN|                           NaN|                                       NaN|             NaN|           104.871|      38.0|       13.188|        8.643|     11803.431|            1.1|              304.195|              10.08|           7.1|        51.2|                   NaN|                      2.89|          78.57|                  0.795|    2842318.0|                                 NaN|                        NaN|             NaN|                                    NaN|\n",
      "+--------+---------+-----------+-----------------+-----------+---------+------------------+------------+----------+-------------------+-----------------------+---------------------+------------------------------+------------------------+----------------------+-------------------------------+-----------------+------------+------------------------+-------------+-------------------------+---------------------+---------------------------------+----------------------+----------------------------------+-----------+---------+------------------------+----------------------+------------------+-------------------------------+-------------+--------------+-----------+------------------+-----------------+-----------------------+--------------+----------------+-------------------------+------------------------------+-----------------------------+-----------------------------------+--------------------------+-------------------------------------+------------------------------+------------------------------------------+----------------+------------------+----------+-------------+-------------+--------------+---------------+---------------------+-------------------+--------------+------------+----------------------+--------------------------+---------------+-----------------------+-------------+------------------------------------+---------------------------+----------------+---------------------------------------+\n",
      "only showing top 3 rows\n",
      "\n"
     ]
    }
   ],
   "source": [
    "# Display the first 5 records of all the columns\n",
    "sparkDF.show(3)"
   ]
  },
  {
   "cell_type": "markdown",
   "id": "31bb630c-52a0-4448-bb49-6d217195a169",
   "metadata": {},
   "source": [
    "### 9.2 Picking specific columns\n"
   ]
  },
  {
   "cell_type": "markdown",
   "id": "3fb1c756-291d-40f0-994f-1b79307c5088",
   "metadata": {},
   "source": [
    "- To display only certain columns, use the following code:\n"
   ]
  },
  {
   "cell_type": "code",
   "execution_count": 36,
   "id": "a2cd6146-c8a8-4761-8b46-8d10e48bb29c",
   "metadata": {},
   "outputs": [
    {
     "name": "stdout",
     "output_type": "stream",
     "text": [
      "+-------------+-----------+------------+------------------+------------------------------+-------------+----------------+\n",
      "|    continent|total_cases|total_deaths|total_vaccinations|total_vaccinations_per_hundred|   population|excess_mortality|\n",
      "+-------------+-----------+------------+------------------+------------------------------+-------------+----------------+\n",
      "|         Asia|   235214.0|      7998.0|               NaN|                           NaN|  4.1128772E7|             NaN|\n",
      "|          NaN| 1.314538E7|    259117.0|               NaN|                           NaN|1.426736614E9|             NaN|\n",
      "|       Europe|   335047.0|      3605.0|               NaN|                           NaN|    2842318.0|             NaN|\n",
      "|       Africa|   272139.0|      6881.0|               NaN|                           NaN|  4.4903228E7|             NaN|\n",
      "|      Oceania|     8359.0|        34.0|               NaN|                           NaN|      44295.0|             NaN|\n",
      "|       Europe|    48015.0|       159.0|               NaN|                           NaN|      79843.0|             NaN|\n",
      "|       Africa|   107481.0|      1937.0|               NaN|                           NaN|  3.5588996E7|             NaN|\n",
      "|North America|     3904.0|        12.0|               NaN|                           NaN|      15877.0|             NaN|\n",
      "|North America|     9106.0|       146.0|               NaN|                           NaN|      93772.0|             NaN|\n",
      "|South America|1.0101218E7|    130663.0|               NaN|                           NaN|  4.5510324E7|             NaN|\n",
      "+-------------+-----------+------------+------------------+------------------------------+-------------+----------------+\n",
      "only showing top 10 rows\n",
      "\n"
     ]
    }
   ],
   "source": [
    "# List the names of the columns you want to display\n",
    "columns_to_display = ['continent', 'total_cases', 'total_deaths', 'total_vaccinations', 'total_vaccinations_per_hundred','population', 'excess_mortality']\n",
    "# Display the first 5 records of the specified columns\n",
    "sparkDF.select(columns_to_display).show(10)"
   ]
  },
  {
   "cell_type": "markdown",
   "id": "a48d070b-2152-4381-8e46-4060f8c5c0d0",
   "metadata": {},
   "source": [
    "### 9.3 Sifting Through Data\n"
   ]
  },
  {
   "cell_type": "markdown",
   "id": "85acf63c-4ef6-4b2b-bfa9-e6d479e215e5",
   "metadata": {},
   "source": [
    "- To filter records based on a specific condition, use the following code:\n"
   ]
  },
  {
   "cell_type": "code",
   "execution_count": 39,
   "id": "864c3317-aaf2-4690-8f95-aa5bf6568c14",
   "metadata": {},
   "outputs": [
    {
     "name": "stdout",
     "output_type": "stream",
     "text": [
      "Filtering records where 'total_cases' is greater than 1,000,000:\n",
      "+--------+-------------+---------+-----------------+------------+---------+------------------+------------+----------+-------------------+-----------------------+---------------------+------------------------------+------------------------+----------------------+-------------------------------+-----------------+------------+------------------------+-------------+-------------------------+---------------------+---------------------------------+----------------------+----------------------------------+-----------+---------+------------------------+----------------------+------------------+-------------------------------+-------------+--------------+-----------+------------------+-----------------+-----------------------+--------------+----------------+-------------------------+------------------------------+-----------------------------+-----------------------------------+--------------------------+-------------------------------------+------------------------------+------------------------------------------+----------------+------------------+----------+-------------+-------------+--------------+---------------+---------------------+-------------------+--------------+------------+----------------------+--------------------------+---------------+-----------------------+-------------+------------------------------------+---------------------------+----------------+---------------------------------------+\n",
      "|iso_code|    continent| location|last_updated_date| total_cases|new_cases|new_cases_smoothed|total_deaths|new_deaths|new_deaths_smoothed|total_cases_per_million|new_cases_per_million|new_cases_smoothed_per_million|total_deaths_per_million|new_deaths_per_million|new_deaths_smoothed_per_million|reproduction_rate|icu_patients|icu_patients_per_million|hosp_patients|hosp_patients_per_million|weekly_icu_admissions|weekly_icu_admissions_per_million|weekly_hosp_admissions|weekly_hosp_admissions_per_million|total_tests|new_tests|total_tests_per_thousand|new_tests_per_thousand|new_tests_smoothed|new_tests_smoothed_per_thousand|positive_rate|tests_per_case|tests_units|total_vaccinations|people_vaccinated|people_fully_vaccinated|total_boosters|new_vaccinations|new_vaccinations_smoothed|total_vaccinations_per_hundred|people_vaccinated_per_hundred|people_fully_vaccinated_per_hundred|total_boosters_per_hundred|new_vaccinations_smoothed_per_million|new_people_vaccinated_smoothed|new_people_vaccinated_smoothed_per_hundred|stringency_index|population_density|median_age|aged_65_older|aged_70_older|gdp_per_capita|extreme_poverty|cardiovasc_death_rate|diabetes_prevalence|female_smokers|male_smokers|handwashing_facilities|hospital_beds_per_thousand|life_expectancy|human_development_index|   population|excess_mortality_cumulative_absolute|excess_mortality_cumulative|excess_mortality|excess_mortality_cumulative_per_million|\n",
      "+--------+-------------+---------+-----------------+------------+---------+------------------+------------+----------+-------------------+-----------------------+---------------------+------------------------------+------------------------+----------------------+-------------------------------+-----------------+------------+------------------------+-------------+-------------------------+---------------------+---------------------------------+----------------------+----------------------------------+-----------+---------+------------------------+----------------------+------------------+-------------------------------+-------------+--------------+-----------+------------------+-----------------+-----------------------+--------------+----------------+-------------------------+------------------------------+-----------------------------+-----------------------------------+--------------------------+-------------------------------------+------------------------------+------------------------------------------+----------------+------------------+----------+-------------+-------------+--------------+---------------+---------------------+-------------------+--------------+------------+----------------------+--------------------------+---------------+-----------------------+-------------+------------------------------------+---------------------------+----------------+---------------------------------------+\n",
      "|OWID_AFR|          NaN|   Africa|       2024-08-04|  1.314538E7|     36.0|             5.143|    259117.0|       0.0|                0.0|               9088.877|                0.025|                         0.004|                 179.157|                   0.0|                            0.0|              NaN|         NaN|                     NaN|          NaN|                      NaN|                  NaN|                              NaN|                   NaN|                               NaN|        NaN|      NaN|                     NaN|                   NaN|               NaN|                            NaN|          NaN|           NaN|        NaN|               NaN|              NaN|                    NaN|           NaN|             NaN|                      NaN|                           NaN|                          NaN|                                NaN|                       NaN|                                  NaN|                           NaN|                                       NaN|             NaN|               NaN|       NaN|          NaN|          NaN|           NaN|            NaN|                  NaN|                NaN|           NaN|         NaN|                   NaN|                       NaN|            NaN|                    NaN|1.426736614E9|                                 NaN|                        NaN|             NaN|                                    NaN|\n",
      "|     ARG|South America|Argentina|       2024-08-04| 1.0101218E7|     54.0|             7.714|    130663.0|       1.0|              0.143|              222455.06|                1.189|                          0.17|                2877.538|                 0.022|                          0.003|              NaN|         NaN|                     NaN|          NaN|                      NaN|                  NaN|                              NaN|                   NaN|                               NaN|        NaN|      NaN|                     NaN|                   NaN|               NaN|                            NaN|          NaN|           NaN|        NaN|               NaN|              NaN|                    NaN|           NaN|             NaN|                      NaN|                           NaN|                          NaN|                                NaN|                       NaN|                                  NaN|                           NaN|                                       NaN|             NaN|            16.177|      31.9|       11.198|        7.441|     18933.907|            0.6|              191.032|                5.5|          16.2|        27.7|                   NaN|                       5.0|          76.67|                  0.845|  4.5510324E7|                                 NaN|                        NaN|             NaN|                                    NaN|\n",
      "|OWID_ASI|          NaN|     Asia|       2024-08-14|3.01499099E8|   4515.0|             645.0|   1637249.0|      17.0|              2.429|                63948.2|                0.958|                         0.137|                 347.262|                 0.004|                          0.001|              NaN|         NaN|                     NaN|          NaN|                      NaN|                  NaN|                              NaN|                   NaN|                               NaN|        NaN|      NaN|                     NaN|                   NaN|               NaN|                            NaN|          NaN|           NaN|        NaN|     9.104304615E9|    3.689438947E9|          3.462095463E9| 1.815176944E9|           258.0|                    193.0|                        192.83|                        78.14|                              73.33|                     38.45|                                  0.0|                          10.0|                                       0.0|             NaN|               NaN|       NaN|          NaN|          NaN|           NaN|            NaN|                  NaN|                NaN|           NaN|         NaN|                   NaN|                       NaN|            NaN|                    NaN| 4.72138337E9|                                 NaN|                        NaN|             NaN|                                    NaN|\n",
      "|     AUS|      Oceania|Australia|       2024-08-04| 1.1861161E7|      0.0|               0.0|     25236.0|       0.0|                0.0|               452699.0|                  0.0|                           0.0|                  963.17|                   0.0|                            0.0|              NaN|         NaN|                     NaN|          NaN|                      NaN|                  NaN|                              NaN|                   NaN|                               NaN|        NaN|      NaN|                     NaN|                   NaN|               NaN|                            NaN|          NaN|           NaN|        NaN|               NaN|              NaN|                    NaN|           NaN|             NaN|                      NaN|                           NaN|                          NaN|                                NaN|                       NaN|                                  NaN|                           NaN|                                       NaN|             NaN|             3.202|      37.9|       15.504|       10.129|      44648.71|            0.5|              107.791|               5.07|          13.0|        16.5|                   NaN|                      3.84|          83.44|                  0.944|   2.617741E7|                                 NaN|                        NaN|             NaN|                                    NaN|\n",
      "|     AUT|       Europe|  Austria|       2024-08-04|   6082444.0|     15.0|             2.143|     22534.0|       0.0|                0.0|               671004.9|                1.655|                         0.236|                2485.912|                   0.0|                            0.0|              NaN|         NaN|                     NaN|          NaN|                      NaN|                  NaN|                              NaN|                   NaN|                               NaN|        NaN|      NaN|                     NaN|                   NaN|               NaN|                            NaN|          NaN|           NaN|        NaN|               NaN|              NaN|                    NaN|           NaN|             NaN|                      NaN|                           NaN|                          NaN|                                NaN|                       NaN|                                  NaN|                           NaN|                                       NaN|             NaN|           106.749|      44.4|       19.202|       13.748|     45436.686|            0.7|              145.183|               6.35|          28.4|        30.9|                   NaN|                      7.37|          81.54|                  0.922|    8939617.0|                                 NaN|                        NaN|             NaN|                                    NaN|\n",
      "+--------+-------------+---------+-----------------+------------+---------+------------------+------------+----------+-------------------+-----------------------+---------------------+------------------------------+------------------------+----------------------+-------------------------------+-----------------+------------+------------------------+-------------+-------------------------+---------------------+---------------------------------+----------------------+----------------------------------+-----------+---------+------------------------+----------------------+------------------+-------------------------------+-------------+--------------+-----------+------------------+-----------------+-----------------------+--------------+----------------+-------------------------+------------------------------+-----------------------------+-----------------------------------+--------------------------+-------------------------------------+------------------------------+------------------------------------------+----------------+------------------+----------+-------------+-------------+--------------+---------------+---------------------+-------------------+--------------+------------+----------------------+--------------------------+---------------+-----------------------+-------------+------------------------------------+---------------------------+----------------+---------------------------------------+\n",
      "only showing top 5 rows\n",
      "\n"
     ]
    }
   ],
   "source": [
    "print(\"Filtering records where 'total_cases' is greater than 1,000,000:\")\n",
    " # Show records with more than 1 million total cases\n",
    "sparkDF.filter(sparkDF['total_cases'] > 1000000).show(5) "
   ]
  },
  {
   "cell_type": "code",
   "execution_count": 40,
   "id": "932a7f5d-58f8-4306-9a05-a3b4d928c40c",
   "metadata": {},
   "outputs": [
    {
     "name": "stdout",
     "output_type": "stream",
     "text": [
      "Calculating the total deaths per continent:\n"
     ]
    },
    {
     "name": "stderr",
     "output_type": "stream",
     "text": [
      "[Stage 13:===========================================>              (3 + 1) / 4]"
     ]
    },
    {
     "name": "stdout",
     "output_type": "stream",
     "text": [
      "+-------------+-----------------+\n",
      "|    continent|sum(total_deaths)|\n",
      "+-------------+-----------------+\n",
      "|       Europe|        2102483.0|\n",
      "|       Africa|         259117.0|\n",
      "|North America|        1671178.0|\n",
      "|South America|        1354187.0|\n",
      "|          NaN|      2.2430618E7|\n",
      "|      Oceania|          32918.0|\n",
      "|         Asia|              NaN|\n",
      "+-------------+-----------------+\n",
      "\n"
     ]
    },
    {
     "name": "stderr",
     "output_type": "stream",
     "text": [
      "                                                                                "
     ]
    }
   ],
   "source": [
    "print(\"Calculating the total deaths per continent:\")\n",
    "# Group by continent and sum total death rates\n",
    "sparkDF.groupby(['continent']).agg({\"total_deaths\": \"SUM\"}).show()  "
   ]
  },
  {
   "cell_type": "code",
   "execution_count": 42,
   "id": "8f2307ae-990f-422d-8db4-37abea6112ab",
   "metadata": {},
   "outputs": [],
   "source": [
    "# Drop the existing temporary view if it exists\n",
    "spark.sql(\"DROP VIEW IF EXISTS data_v\")\n",
    "\n",
    "# Create a new temporary view\n",
    "sparkDF.createTempView('data_v')"
   ]
  },
  {
   "cell_type": "code",
   "execution_count": 43,
   "id": "a1698d7a-2616-41ae-bdeb-eb70b7fa0986",
   "metadata": {},
   "outputs": [
    {
     "name": "stdout",
     "output_type": "stream",
     "text": [
      "+--------+-------------+-------------------+-----------------+------------+---------+------------------+------------+----------+-------------------+-----------------------+---------------------+------------------------------+------------------------+----------------------+-------------------------------+-----------------+------------+------------------------+-------------+-------------------------+---------------------+---------------------------------+----------------------+----------------------------------+-----------+---------+------------------------+----------------------+------------------+-------------------------------+-------------+--------------+-----------+------------------+-----------------+-----------------------+--------------+----------------+-------------------------+------------------------------+-----------------------------+-----------------------------------+--------------------------+-------------------------------------+------------------------------+------------------------------------------+----------------+------------------+----------+-------------+-------------+--------------+---------------+---------------------+-------------------+--------------+------------+----------------------+--------------------------+---------------+-----------------------+-------------+------------------------------------+---------------------------+----------------+---------------------------------------+\n",
      "|iso_code|    continent|           location|last_updated_date| total_cases|new_cases|new_cases_smoothed|total_deaths|new_deaths|new_deaths_smoothed|total_cases_per_million|new_cases_per_million|new_cases_smoothed_per_million|total_deaths_per_million|new_deaths_per_million|new_deaths_smoothed_per_million|reproduction_rate|icu_patients|icu_patients_per_million|hosp_patients|hosp_patients_per_million|weekly_icu_admissions|weekly_icu_admissions_per_million|weekly_hosp_admissions|weekly_hosp_admissions_per_million|total_tests|new_tests|total_tests_per_thousand|new_tests_per_thousand|new_tests_smoothed|new_tests_smoothed_per_thousand|positive_rate|tests_per_case|tests_units|total_vaccinations|people_vaccinated|people_fully_vaccinated|total_boosters|new_vaccinations|new_vaccinations_smoothed|total_vaccinations_per_hundred|people_vaccinated_per_hundred|people_fully_vaccinated_per_hundred|total_boosters_per_hundred|new_vaccinations_smoothed_per_million|new_people_vaccinated_smoothed|new_people_vaccinated_smoothed_per_hundred|stringency_index|population_density|median_age|aged_65_older|aged_70_older|gdp_per_capita|extreme_poverty|cardiovasc_death_rate|diabetes_prevalence|female_smokers|male_smokers|handwashing_facilities|hospital_beds_per_thousand|life_expectancy|human_development_index|   population|excess_mortality_cumulative_absolute|excess_mortality_cumulative|excess_mortality|excess_mortality_cumulative_per_million|\n",
      "+--------+-------------+-------------------+-----------------+------------+---------+------------------+------------+----------+-------------------+-----------------------+---------------------+------------------------------+------------------------+----------------------+-------------------------------+-----------------+------------+------------------------+-------------+-------------------------+---------------------+---------------------------------+----------------------+----------------------------------+-----------+---------+------------------------+----------------------+------------------+-------------------------------+-------------+--------------+-----------+------------------+-----------------+-----------------------+--------------+----------------+-------------------------+------------------------------+-----------------------------+-----------------------------------+--------------------------+-------------------------------------+------------------------------+------------------------------------------+----------------+------------------+----------+-------------+-------------+--------------+---------------+---------------------+-------------------+--------------+------------+----------------------+--------------------------+---------------+-----------------------+-------------+------------------------------------+---------------------------+----------------+---------------------------------------+\n",
      "|     AFG|         Asia|        Afghanistan|       2024-08-04|    235214.0|      0.0|               0.0|      7998.0|       0.0|                0.0|               5796.468|                  0.0|                           0.0|                 197.098|                   0.0|                            0.0|              NaN|         NaN|                     NaN|          NaN|                      NaN|                  NaN|                              NaN|                   NaN|                               NaN|        NaN|      NaN|                     NaN|                   NaN|               NaN|                            NaN|          NaN|           NaN|        NaN|               NaN|              NaN|                    NaN|           NaN|             NaN|                      NaN|                           NaN|                          NaN|                                NaN|                       NaN|                                  NaN|                           NaN|                                       NaN|             NaN|            54.422|      18.6|        2.581|        1.337|      1803.987|            NaN|              597.029|               9.59|           NaN|         NaN|                37.746|                       0.5|          64.83|                  0.511|  4.1128772E7|                                 NaN|                        NaN|             NaN|                                    NaN|\n",
      "|OWID_AFR|          NaN|             Africa|       2024-08-04|  1.314538E7|     36.0|             5.143|    259117.0|       0.0|                0.0|               9088.877|                0.025|                         0.004|                 179.157|                   0.0|                            0.0|              NaN|         NaN|                     NaN|          NaN|                      NaN|                  NaN|                              NaN|                   NaN|                               NaN|        NaN|      NaN|                     NaN|                   NaN|               NaN|                            NaN|          NaN|           NaN|        NaN|               NaN|              NaN|                    NaN|           NaN|             NaN|                      NaN|                           NaN|                          NaN|                                NaN|                       NaN|                                  NaN|                           NaN|                                       NaN|             NaN|               NaN|       NaN|          NaN|          NaN|           NaN|            NaN|                  NaN|                NaN|           NaN|         NaN|                   NaN|                       NaN|            NaN|                    NaN|1.426736614E9|                                 NaN|                        NaN|             NaN|                                    NaN|\n",
      "|     ALB|       Europe|            Albania|       2024-08-04|    335047.0|      0.0|               0.0|      3605.0|       0.0|                0.0|              118491.02|                  0.0|                           0.0|                1274.926|                   0.0|                            0.0|              NaN|         NaN|                     NaN|          NaN|                      NaN|                  NaN|                              NaN|                   NaN|                               NaN|        NaN|      NaN|                     NaN|                   NaN|               NaN|                            NaN|          NaN|           NaN|        NaN|               NaN|              NaN|                    NaN|           NaN|             NaN|                      NaN|                           NaN|                          NaN|                                NaN|                       NaN|                                  NaN|                           NaN|                                       NaN|             NaN|           104.871|      38.0|       13.188|        8.643|     11803.431|            1.1|              304.195|              10.08|           7.1|        51.2|                   NaN|                      2.89|          78.57|                  0.795|    2842318.0|                                 NaN|                        NaN|             NaN|                                    NaN|\n",
      "|     DZA|       Africa|            Algeria|       2024-08-04|    272139.0|     18.0|             2.571|      6881.0|       0.0|                0.0|                5984.05|                0.396|                         0.057|                 151.306|                   0.0|                            0.0|              NaN|         NaN|                     NaN|          NaN|                      NaN|                  NaN|                              NaN|                   NaN|                               NaN|        NaN|      NaN|                     NaN|                   NaN|               NaN|                            NaN|          NaN|           NaN|        NaN|               NaN|              NaN|                    NaN|           NaN|             NaN|                      NaN|                           NaN|                          NaN|                                NaN|                       NaN|                                  NaN|                           NaN|                                       NaN|             NaN|            17.348|      29.1|        6.211|        3.857|     13913.839|            0.5|              278.364|               6.73|           0.7|        30.4|                83.741|                       1.9|          76.88|                  0.748|  4.4903228E7|                                 NaN|                        NaN|             NaN|                                    NaN|\n",
      "|     ASM|      Oceania|     American Samoa|       2024-08-04|      8359.0|      0.0|               0.0|        34.0|       0.0|                0.0|               172831.6|                  0.0|                           0.0|                 702.988|                   0.0|                            0.0|              NaN|         NaN|                     NaN|          NaN|                      NaN|                  NaN|                              NaN|                   NaN|                               NaN|        NaN|      NaN|                     NaN|                   NaN|               NaN|                            NaN|          NaN|           NaN|        NaN|               NaN|              NaN|                    NaN|           NaN|             NaN|                      NaN|                           NaN|                          NaN|                                NaN|                       NaN|                                  NaN|                           NaN|                                       NaN|             NaN|           278.205|       NaN|          NaN|          NaN|           NaN|            NaN|               283.75|                NaN|           NaN|         NaN|                   NaN|                       NaN|          73.74|                    NaN|      44295.0|                                 NaN|                        NaN|             NaN|                                    NaN|\n",
      "|     AND|       Europe|            Andorra|       2024-08-04|     48015.0|      0.0|               0.0|       159.0|       0.0|                0.0|              602280.44|                  0.0|                           0.0|                1994.431|                   0.0|                            0.0|              NaN|         NaN|                     NaN|          NaN|                      NaN|                  NaN|                              NaN|                   NaN|                               NaN|        NaN|      NaN|                     NaN|                   NaN|               NaN|                            NaN|          NaN|           NaN|        NaN|               NaN|              NaN|                    NaN|           NaN|             NaN|                      NaN|                           NaN|                          NaN|                                NaN|                       NaN|                                  NaN|                           NaN|                                       NaN|             NaN|           163.755|       NaN|          NaN|          NaN|           NaN|            NaN|              109.135|               7.97|          29.0|        37.8|                   NaN|                       NaN|          83.73|                  0.868|      79843.0|                                 NaN|                        NaN|             NaN|                                    NaN|\n",
      "|     AGO|       Africa|             Angola|       2024-08-04|    107481.0|      0.0|               0.0|      1937.0|       0.0|                0.0|               3016.162|                  0.0|                           0.0|                  54.357|                   0.0|                            0.0|              NaN|         NaN|                     NaN|          NaN|                      NaN|                  NaN|                              NaN|                   NaN|                               NaN|        NaN|      NaN|                     NaN|                   NaN|               NaN|                            NaN|          NaN|           NaN|        NaN|               NaN|              NaN|                    NaN|           NaN|             NaN|                      NaN|                           NaN|                          NaN|                                NaN|                       NaN|                                  NaN|                           NaN|                                       NaN|             NaN|             23.89|      16.8|        2.405|        1.362|      5819.495|            NaN|              276.045|               3.94|           NaN|         NaN|                26.664|                       NaN|          61.15|                  0.581|  3.5588996E7|                                 NaN|                        NaN|             NaN|                                    NaN|\n",
      "|     AIA|North America|           Anguilla|       2024-08-04|      3904.0|      0.0|               0.0|        12.0|       0.0|                0.0|              274890.88|                  0.0|                           0.0|                 844.951|                   0.0|                            0.0|              NaN|         NaN|                     NaN|          NaN|                      NaN|                  NaN|                              NaN|                   NaN|                               NaN|        NaN|      NaN|                     NaN|                   NaN|               NaN|                            NaN|          NaN|           NaN|        NaN|               NaN|              NaN|                    NaN|           NaN|             NaN|                      NaN|                           NaN|                          NaN|                                NaN|                       NaN|                                  NaN|                           NaN|                                       NaN|             NaN|               NaN|       NaN|          NaN|          NaN|           NaN|            NaN|                  NaN|                NaN|           NaN|         NaN|                   NaN|                       NaN|          81.88|                    NaN|      15877.0|                                 NaN|                        NaN|             NaN|                                    NaN|\n",
      "|     ATG|North America|Antigua and Barbuda|       2024-08-04|      9106.0|      0.0|               0.0|       146.0|       0.0|                0.0|                98071.1|                  0.0|                           0.0|                1572.412|                   0.0|                            0.0|              NaN|         NaN|                     NaN|          NaN|                      NaN|                  NaN|                              NaN|                   NaN|                               NaN|        NaN|      NaN|                     NaN|                   NaN|               NaN|                            NaN|          NaN|           NaN|        NaN|               NaN|              NaN|                    NaN|           NaN|             NaN|                      NaN|                           NaN|                          NaN|                                NaN|                       NaN|                                  NaN|                           NaN|                                       NaN|             NaN|           231.845|      32.1|        6.933|        4.631|     21490.943|            NaN|              191.511|              13.17|           NaN|         NaN|                   NaN|                       3.8|          77.02|                  0.778|      93772.0|                                 NaN|                        NaN|             NaN|                                    NaN|\n",
      "|     ARG|South America|          Argentina|       2024-08-04| 1.0101218E7|     54.0|             7.714|    130663.0|       1.0|              0.143|              222455.06|                1.189|                          0.17|                2877.538|                 0.022|                          0.003|              NaN|         NaN|                     NaN|          NaN|                      NaN|                  NaN|                              NaN|                   NaN|                               NaN|        NaN|      NaN|                     NaN|                   NaN|               NaN|                            NaN|          NaN|           NaN|        NaN|               NaN|              NaN|                    NaN|           NaN|             NaN|                      NaN|                           NaN|                          NaN|                                NaN|                       NaN|                                  NaN|                           NaN|                                       NaN|             NaN|            16.177|      31.9|       11.198|        7.441|     18933.907|            0.6|              191.032|                5.5|          16.2|        27.7|                   NaN|                       5.0|          76.67|                  0.845|  4.5510324E7|                                 NaN|                        NaN|             NaN|                                    NaN|\n",
      "|     ARM|         Asia|            Armenia|       2024-08-04|    452273.0|      0.0|               0.0|      8777.0|       0.0|                0.0|              156991.11|                  0.0|                           0.0|                3046.635|                   0.0|                            0.0|              NaN|         NaN|                     NaN|          NaN|                      NaN|                  NaN|                              NaN|                   NaN|                               NaN|        NaN|      NaN|                     NaN|                   NaN|               NaN|                            NaN|          NaN|           NaN|        NaN|               NaN|              NaN|                    NaN|           NaN|             NaN|                      NaN|                           NaN|                          NaN|                                NaN|                       NaN|                                  NaN|                           NaN|                                       NaN|             NaN|           102.931|      35.7|       11.232|        7.571|       8787.58|            1.8|               341.01|               7.11|           1.5|        52.1|                94.043|                       4.2|          75.09|                  0.776|    2780472.0|                                 NaN|                        NaN|             NaN|                                    NaN|\n",
      "|     ABW|North America|              Aruba|       2024-08-04|     44224.0|      0.0|               0.0|       292.0|       0.0|                0.0|              410271.62|                  0.0|                           0.0|                2708.921|                   0.0|                            0.0|              NaN|         NaN|                     NaN|          NaN|                      NaN|                  NaN|                              NaN|                   NaN|                               NaN|        NaN|      NaN|                     NaN|                   NaN|               NaN|                            NaN|          NaN|           NaN|        NaN|               NaN|              NaN|                    NaN|           NaN|             NaN|                      NaN|                           NaN|                          NaN|                                NaN|                       NaN|                                  NaN|                           NaN|                                       NaN|             NaN|             584.8|      41.2|       13.085|        7.452|     35973.781|            NaN|                  NaN|              11.62|           NaN|         NaN|                   NaN|                       NaN|          76.29|                    NaN|     106459.0|                                 NaN|                        NaN|             NaN|                                    NaN|\n",
      "|OWID_ASI|          NaN|               Asia|       2024-08-14|3.01499099E8|   4515.0|             645.0|   1637249.0|      17.0|              2.429|                63948.2|                0.958|                         0.137|                 347.262|                 0.004|                          0.001|              NaN|         NaN|                     NaN|          NaN|                      NaN|                  NaN|                              NaN|                   NaN|                               NaN|        NaN|      NaN|                     NaN|                   NaN|               NaN|                            NaN|          NaN|           NaN|        NaN|     9.104304615E9|    3.689438947E9|          3.462095463E9| 1.815176944E9|           258.0|                    193.0|                        192.83|                        78.14|                              73.33|                     38.45|                                  0.0|                          10.0|                                       0.0|             NaN|               NaN|       NaN|          NaN|          NaN|           NaN|            NaN|                  NaN|                NaN|           NaN|         NaN|                   NaN|                       NaN|            NaN|                    NaN| 4.72138337E9|                                 NaN|                        NaN|             NaN|                                    NaN|\n",
      "|     AUS|      Oceania|          Australia|       2024-08-04| 1.1861161E7|      0.0|               0.0|     25236.0|       0.0|                0.0|               452699.0|                  0.0|                           0.0|                  963.17|                   0.0|                            0.0|              NaN|         NaN|                     NaN|          NaN|                      NaN|                  NaN|                              NaN|                   NaN|                               NaN|        NaN|      NaN|                     NaN|                   NaN|               NaN|                            NaN|          NaN|           NaN|        NaN|               NaN|              NaN|                    NaN|           NaN|             NaN|                      NaN|                           NaN|                          NaN|                                NaN|                       NaN|                                  NaN|                           NaN|                                       NaN|             NaN|             3.202|      37.9|       15.504|       10.129|      44648.71|            0.5|              107.791|               5.07|          13.0|        16.5|                   NaN|                      3.84|          83.44|                  0.944|   2.617741E7|                                 NaN|                        NaN|             NaN|                                    NaN|\n",
      "|     AUT|       Europe|            Austria|       2024-08-04|   6082444.0|     15.0|             2.143|     22534.0|       0.0|                0.0|               671004.9|                1.655|                         0.236|                2485.912|                   0.0|                            0.0|              NaN|         NaN|                     NaN|          NaN|                      NaN|                  NaN|                              NaN|                   NaN|                               NaN|        NaN|      NaN|                     NaN|                   NaN|               NaN|                            NaN|          NaN|           NaN|        NaN|               NaN|              NaN|                    NaN|           NaN|             NaN|                      NaN|                           NaN|                          NaN|                                NaN|                       NaN|                                  NaN|                           NaN|                                       NaN|             NaN|           106.749|      44.4|       19.202|       13.748|     45436.686|            0.7|              145.183|               6.35|          28.4|        30.9|                   NaN|                      7.37|          81.54|                  0.922|    8939617.0|                                 NaN|                        NaN|             NaN|                                    NaN|\n",
      "|     AZE|         Asia|         Azerbaijan|       2024-08-04|    835757.0|     63.0|               9.0|     10353.0|       0.0|                0.0|              81178.445|                6.119|                         0.874|                1005.604|                   0.0|                            0.0|              NaN|         NaN|                     NaN|          NaN|                      NaN|                  NaN|                              NaN|                   NaN|                               NaN|        NaN|      NaN|                     NaN|                   NaN|               NaN|                            NaN|          NaN|           NaN|        NaN|               NaN|              NaN|                    NaN|           NaN|             NaN|                      NaN|                           NaN|                          NaN|                                NaN|                       NaN|                                  NaN|                           NaN|                                       NaN|             NaN|           119.309|      32.4|        6.018|        3.871|     15847.419|            NaN|              559.812|               7.11|           0.3|        42.5|                83.241|                       4.7|           73.0|                  0.756|  1.0358078E7|                                 NaN|                        NaN|             NaN|                                    NaN|\n",
      "|     BHS|North America|            Bahamas|       2024-08-04|     39127.0|      0.0|               0.0|       849.0|       0.0|                0.0|               98421.81|                  0.0|                           0.0|                2135.612|                   0.0|                            0.0|              NaN|         NaN|                     NaN|          NaN|                      NaN|                  NaN|                              NaN|                   NaN|                               NaN|        NaN|      NaN|                     NaN|                   NaN|               NaN|                            NaN|          NaN|           NaN|        NaN|               NaN|              NaN|                    NaN|           NaN|             NaN|                      NaN|                           NaN|                          NaN|                                NaN|                       NaN|                                  NaN|                           NaN|                                       NaN|             NaN|            39.497|      34.3|        8.996|          5.2|     27717.847|            NaN|              235.954|              13.17|           3.1|        20.4|                   NaN|                       2.9|          73.92|                  0.814|     409989.0|                                 NaN|                        NaN|             NaN|                                    NaN|\n",
      "|     BHR|         Asia|            Bahrain|       2024-08-04|    696614.0|      0.0|               0.0|      1536.0|       0.0|                0.0|              454276.25|                  0.0|                           0.0|                1001.657|                   0.0|                            0.0|              NaN|         NaN|                     NaN|          NaN|                      NaN|                  NaN|                              NaN|                   NaN|                               NaN|        NaN|      NaN|                     NaN|                   NaN|               NaN|                            NaN|          NaN|           NaN|        NaN|               NaN|              NaN|                    NaN|           NaN|             NaN|                      NaN|                           NaN|                          NaN|                                NaN|                       NaN|                                  NaN|                           NaN|                                       NaN|             NaN|          1935.907|      32.4|        2.372|        1.387|     43290.705|            NaN|              151.689|              16.52|           5.8|        37.6|                   NaN|                       2.0|          77.29|                  0.852|    1472237.0|                                 NaN|                        NaN|             NaN|                                    NaN|\n",
      "|     BGD|         Asia|         Bangladesh|       2024-08-04|   2051348.0|     40.0|             5.714|     29499.0|       0.0|                0.0|              12110.572|                0.236|                         0.034|                 174.154|                   0.0|                            0.0|              NaN|         NaN|                     NaN|          NaN|                      NaN|                  NaN|                              NaN|                   NaN|                               NaN|        NaN|      NaN|                     NaN|                   NaN|               NaN|                            NaN|          NaN|           NaN|        NaN|               NaN|              NaN|                    NaN|           NaN|             NaN|                      NaN|                           NaN|                          NaN|                                NaN|                       NaN|                                  NaN|                           NaN|                                       NaN|             NaN|          1265.036|      27.5|        5.098|        3.262|      3523.984|           14.8|              298.003|               8.38|           1.0|        44.7|                34.808|                       0.8|          72.59|                  0.632| 1.71186368E8|                                 NaN|                        NaN|             NaN|                                    NaN|\n",
      "|     BRB|North America|           Barbados|       2024-08-04|    108582.0|     57.0|             8.143|       593.0|       0.0|                0.0|               384600.7|              201.896|                        28.842|                2100.424|                   0.0|                            0.0|              NaN|         NaN|                     NaN|          NaN|                      NaN|                  NaN|                              NaN|                   NaN|                               NaN|        NaN|      NaN|                     NaN|                   NaN|               NaN|                            NaN|          NaN|           NaN|        NaN|               NaN|              NaN|                    NaN|           NaN|             NaN|                      NaN|                           NaN|                          NaN|                                NaN|                       NaN|                                  NaN|                           NaN|                                       NaN|             NaN|           664.463|      39.8|       14.952|        9.473|     16978.068|            NaN|               170.05|              13.57|           1.9|        14.5|                88.469|                       5.8|          79.19|                  0.814|     281646.0|                                 NaN|                        NaN|             NaN|                                    NaN|\n",
      "+--------+-------------+-------------------+-----------------+------------+---------+------------------+------------+----------+-------------------+-----------------------+---------------------+------------------------------+------------------------+----------------------+-------------------------------+-----------------+------------+------------------------+-------------+-------------------------+---------------------+---------------------------------+----------------------+----------------------------------+-----------+---------+------------------------+----------------------+------------------+-------------------------------+-------------+--------------+-----------+------------------+-----------------+-----------------------+--------------+----------------+-------------------------+------------------------------+-----------------------------+-----------------------------------+--------------------------+-------------------------------------+------------------------------+------------------------------------------+----------------+------------------+----------+-------------+-------------+--------------+---------------+---------------------+-------------------+--------------+------------+----------------------+--------------------------+---------------+-----------------------+-------------+------------------------------------+---------------------------+----------------+---------------------------------------+\n",
      "only showing top 20 rows\n",
      "\n"
     ]
    }
   ],
   "source": [
    "spark.sql('SELECT * FROM data_v').show()"
   ]
  },
  {
   "cell_type": "code",
   "execution_count": 43,
   "id": "c7eb1d55-27d4-43cd-a495-754070680957",
   "metadata": {},
   "outputs": [
    {
     "name": "stdout",
     "output_type": "stream",
     "text": [
      "+--------+-------------+-------------------+-----------------+------------+---------+------------------+------------+----------+-------------------+-----------------------+---------------------+------------------------------+------------------------+----------------------+-------------------------------+-----------------+------------+------------------------+-------------+-------------------------+---------------------+---------------------------------+----------------------+----------------------------------+-----------+---------+------------------------+----------------------+------------------+-------------------------------+-------------+--------------+-----------+------------------+-----------------+-----------------------+--------------+----------------+-------------------------+------------------------------+-----------------------------+-----------------------------------+--------------------------+-------------------------------------+------------------------------+------------------------------------------+----------------+------------------+----------+-------------+-------------+--------------+---------------+---------------------+-------------------+--------------+------------+----------------------+--------------------------+---------------+-----------------------+-------------+------------------------------------+---------------------------+----------------+---------------------------------------+\n",
      "|iso_code|    continent|           location|last_updated_date| total_cases|new_cases|new_cases_smoothed|total_deaths|new_deaths|new_deaths_smoothed|total_cases_per_million|new_cases_per_million|new_cases_smoothed_per_million|total_deaths_per_million|new_deaths_per_million|new_deaths_smoothed_per_million|reproduction_rate|icu_patients|icu_patients_per_million|hosp_patients|hosp_patients_per_million|weekly_icu_admissions|weekly_icu_admissions_per_million|weekly_hosp_admissions|weekly_hosp_admissions_per_million|total_tests|new_tests|total_tests_per_thousand|new_tests_per_thousand|new_tests_smoothed|new_tests_smoothed_per_thousand|positive_rate|tests_per_case|tests_units|total_vaccinations|people_vaccinated|people_fully_vaccinated|total_boosters|new_vaccinations|new_vaccinations_smoothed|total_vaccinations_per_hundred|people_vaccinated_per_hundred|people_fully_vaccinated_per_hundred|total_boosters_per_hundred|new_vaccinations_smoothed_per_million|new_people_vaccinated_smoothed|new_people_vaccinated_smoothed_per_hundred|stringency_index|population_density|median_age|aged_65_older|aged_70_older|gdp_per_capita|extreme_poverty|cardiovasc_death_rate|diabetes_prevalence|female_smokers|male_smokers|handwashing_facilities|hospital_beds_per_thousand|life_expectancy|human_development_index|   population|excess_mortality_cumulative_absolute|excess_mortality_cumulative|excess_mortality|excess_mortality_cumulative_per_million|\n",
      "+--------+-------------+-------------------+-----------------+------------+---------+------------------+------------+----------+-------------------+-----------------------+---------------------+------------------------------+------------------------+----------------------+-------------------------------+-----------------+------------+------------------------+-------------+-------------------------+---------------------+---------------------------------+----------------------+----------------------------------+-----------+---------+------------------------+----------------------+------------------+-------------------------------+-------------+--------------+-----------+------------------+-----------------+-----------------------+--------------+----------------+-------------------------+------------------------------+-----------------------------+-----------------------------------+--------------------------+-------------------------------------+------------------------------+------------------------------------------+----------------+------------------+----------+-------------+-------------+--------------+---------------+---------------------+-------------------+--------------+------------+----------------------+--------------------------+---------------+-----------------------+-------------+------------------------------------+---------------------------+----------------+---------------------------------------+\n",
      "|     AFG|         Asia|        Afghanistan|       2024-08-04|    235214.0|      0.0|               0.0|      7998.0|       0.0|                0.0|               5796.468|                  0.0|                           0.0|                 197.098|                   0.0|                            0.0|              NaN|         NaN|                     NaN|          NaN|                      NaN|                  NaN|                              NaN|                   NaN|                               NaN|        NaN|      NaN|                     NaN|                   NaN|               NaN|                            NaN|          NaN|           NaN|        NaN|               NaN|              NaN|                    NaN|           NaN|             NaN|                      NaN|                           NaN|                          NaN|                                NaN|                       NaN|                                  NaN|                           NaN|                                       NaN|             NaN|            54.422|      18.6|        2.581|        1.337|      1803.987|            NaN|              597.029|               9.59|           NaN|         NaN|                37.746|                       0.5|          64.83|                  0.511|  4.1128772E7|                                 NaN|                        NaN|             NaN|                                    NaN|\n",
      "|OWID_AFR|          NaN|             Africa|       2024-08-04|  1.314538E7|     36.0|             5.143|    259117.0|       0.0|                0.0|               9088.877|                0.025|                         0.004|                 179.157|                   0.0|                            0.0|              NaN|         NaN|                     NaN|          NaN|                      NaN|                  NaN|                              NaN|                   NaN|                               NaN|        NaN|      NaN|                     NaN|                   NaN|               NaN|                            NaN|          NaN|           NaN|        NaN|               NaN|              NaN|                    NaN|           NaN|             NaN|                      NaN|                           NaN|                          NaN|                                NaN|                       NaN|                                  NaN|                           NaN|                                       NaN|             NaN|               NaN|       NaN|          NaN|          NaN|           NaN|            NaN|                  NaN|                NaN|           NaN|         NaN|                   NaN|                       NaN|            NaN|                    NaN|1.426736614E9|                                 NaN|                        NaN|             NaN|                                    NaN|\n",
      "|     ALB|       Europe|            Albania|       2024-08-04|    335047.0|      0.0|               0.0|      3605.0|       0.0|                0.0|              118491.02|                  0.0|                           0.0|                1274.926|                   0.0|                            0.0|              NaN|         NaN|                     NaN|          NaN|                      NaN|                  NaN|                              NaN|                   NaN|                               NaN|        NaN|      NaN|                     NaN|                   NaN|               NaN|                            NaN|          NaN|           NaN|        NaN|               NaN|              NaN|                    NaN|           NaN|             NaN|                      NaN|                           NaN|                          NaN|                                NaN|                       NaN|                                  NaN|                           NaN|                                       NaN|             NaN|           104.871|      38.0|       13.188|        8.643|     11803.431|            1.1|              304.195|              10.08|           7.1|        51.2|                   NaN|                      2.89|          78.57|                  0.795|    2842318.0|                                 NaN|                        NaN|             NaN|                                    NaN|\n",
      "|     DZA|       Africa|            Algeria|       2024-08-04|    272139.0|     18.0|             2.571|      6881.0|       0.0|                0.0|                5984.05|                0.396|                         0.057|                 151.306|                   0.0|                            0.0|              NaN|         NaN|                     NaN|          NaN|                      NaN|                  NaN|                              NaN|                   NaN|                               NaN|        NaN|      NaN|                     NaN|                   NaN|               NaN|                            NaN|          NaN|           NaN|        NaN|               NaN|              NaN|                    NaN|           NaN|             NaN|                      NaN|                           NaN|                          NaN|                                NaN|                       NaN|                                  NaN|                           NaN|                                       NaN|             NaN|            17.348|      29.1|        6.211|        3.857|     13913.839|            0.5|              278.364|               6.73|           0.7|        30.4|                83.741|                       1.9|          76.88|                  0.748|  4.4903228E7|                                 NaN|                        NaN|             NaN|                                    NaN|\n",
      "|     ASM|      Oceania|     American Samoa|       2024-08-04|      8359.0|      0.0|               0.0|        34.0|       0.0|                0.0|               172831.6|                  0.0|                           0.0|                 702.988|                   0.0|                            0.0|              NaN|         NaN|                     NaN|          NaN|                      NaN|                  NaN|                              NaN|                   NaN|                               NaN|        NaN|      NaN|                     NaN|                   NaN|               NaN|                            NaN|          NaN|           NaN|        NaN|               NaN|              NaN|                    NaN|           NaN|             NaN|                      NaN|                           NaN|                          NaN|                                NaN|                       NaN|                                  NaN|                           NaN|                                       NaN|             NaN|           278.205|       NaN|          NaN|          NaN|           NaN|            NaN|               283.75|                NaN|           NaN|         NaN|                   NaN|                       NaN|          73.74|                    NaN|      44295.0|                                 NaN|                        NaN|             NaN|                                    NaN|\n",
      "|     AND|       Europe|            Andorra|       2024-08-04|     48015.0|      0.0|               0.0|       159.0|       0.0|                0.0|              602280.44|                  0.0|                           0.0|                1994.431|                   0.0|                            0.0|              NaN|         NaN|                     NaN|          NaN|                      NaN|                  NaN|                              NaN|                   NaN|                               NaN|        NaN|      NaN|                     NaN|                   NaN|               NaN|                            NaN|          NaN|           NaN|        NaN|               NaN|              NaN|                    NaN|           NaN|             NaN|                      NaN|                           NaN|                          NaN|                                NaN|                       NaN|                                  NaN|                           NaN|                                       NaN|             NaN|           163.755|       NaN|          NaN|          NaN|           NaN|            NaN|              109.135|               7.97|          29.0|        37.8|                   NaN|                       NaN|          83.73|                  0.868|      79843.0|                                 NaN|                        NaN|             NaN|                                    NaN|\n",
      "|     AGO|       Africa|             Angola|       2024-08-04|    107481.0|      0.0|               0.0|      1937.0|       0.0|                0.0|               3016.162|                  0.0|                           0.0|                  54.357|                   0.0|                            0.0|              NaN|         NaN|                     NaN|          NaN|                      NaN|                  NaN|                              NaN|                   NaN|                               NaN|        NaN|      NaN|                     NaN|                   NaN|               NaN|                            NaN|          NaN|           NaN|        NaN|               NaN|              NaN|                    NaN|           NaN|             NaN|                      NaN|                           NaN|                          NaN|                                NaN|                       NaN|                                  NaN|                           NaN|                                       NaN|             NaN|             23.89|      16.8|        2.405|        1.362|      5819.495|            NaN|              276.045|               3.94|           NaN|         NaN|                26.664|                       NaN|          61.15|                  0.581|  3.5588996E7|                                 NaN|                        NaN|             NaN|                                    NaN|\n",
      "|     AIA|North America|           Anguilla|       2024-08-04|      3904.0|      0.0|               0.0|        12.0|       0.0|                0.0|              274890.88|                  0.0|                           0.0|                 844.951|                   0.0|                            0.0|              NaN|         NaN|                     NaN|          NaN|                      NaN|                  NaN|                              NaN|                   NaN|                               NaN|        NaN|      NaN|                     NaN|                   NaN|               NaN|                            NaN|          NaN|           NaN|        NaN|               NaN|              NaN|                    NaN|           NaN|             NaN|                      NaN|                           NaN|                          NaN|                                NaN|                       NaN|                                  NaN|                           NaN|                                       NaN|             NaN|               NaN|       NaN|          NaN|          NaN|           NaN|            NaN|                  NaN|                NaN|           NaN|         NaN|                   NaN|                       NaN|          81.88|                    NaN|      15877.0|                                 NaN|                        NaN|             NaN|                                    NaN|\n",
      "|     ATG|North America|Antigua and Barbuda|       2024-08-04|      9106.0|      0.0|               0.0|       146.0|       0.0|                0.0|                98071.1|                  0.0|                           0.0|                1572.412|                   0.0|                            0.0|              NaN|         NaN|                     NaN|          NaN|                      NaN|                  NaN|                              NaN|                   NaN|                               NaN|        NaN|      NaN|                     NaN|                   NaN|               NaN|                            NaN|          NaN|           NaN|        NaN|               NaN|              NaN|                    NaN|           NaN|             NaN|                      NaN|                           NaN|                          NaN|                                NaN|                       NaN|                                  NaN|                           NaN|                                       NaN|             NaN|           231.845|      32.1|        6.933|        4.631|     21490.943|            NaN|              191.511|              13.17|           NaN|         NaN|                   NaN|                       3.8|          77.02|                  0.778|      93772.0|                                 NaN|                        NaN|             NaN|                                    NaN|\n",
      "|     ARG|South America|          Argentina|       2024-08-04| 1.0101218E7|     54.0|             7.714|    130663.0|       1.0|              0.143|              222455.06|                1.189|                          0.17|                2877.538|                 0.022|                          0.003|              NaN|         NaN|                     NaN|          NaN|                      NaN|                  NaN|                              NaN|                   NaN|                               NaN|        NaN|      NaN|                     NaN|                   NaN|               NaN|                            NaN|          NaN|           NaN|        NaN|               NaN|              NaN|                    NaN|           NaN|             NaN|                      NaN|                           NaN|                          NaN|                                NaN|                       NaN|                                  NaN|                           NaN|                                       NaN|             NaN|            16.177|      31.9|       11.198|        7.441|     18933.907|            0.6|              191.032|                5.5|          16.2|        27.7|                   NaN|                       5.0|          76.67|                  0.845|  4.5510324E7|                                 NaN|                        NaN|             NaN|                                    NaN|\n",
      "|     ARM|         Asia|            Armenia|       2024-08-04|    452273.0|      0.0|               0.0|      8777.0|       0.0|                0.0|              156991.11|                  0.0|                           0.0|                3046.635|                   0.0|                            0.0|              NaN|         NaN|                     NaN|          NaN|                      NaN|                  NaN|                              NaN|                   NaN|                               NaN|        NaN|      NaN|                     NaN|                   NaN|               NaN|                            NaN|          NaN|           NaN|        NaN|               NaN|              NaN|                    NaN|           NaN|             NaN|                      NaN|                           NaN|                          NaN|                                NaN|                       NaN|                                  NaN|                           NaN|                                       NaN|             NaN|           102.931|      35.7|       11.232|        7.571|       8787.58|            1.8|               341.01|               7.11|           1.5|        52.1|                94.043|                       4.2|          75.09|                  0.776|    2780472.0|                                 NaN|                        NaN|             NaN|                                    NaN|\n",
      "|     ABW|North America|              Aruba|       2024-08-04|     44224.0|      0.0|               0.0|       292.0|       0.0|                0.0|              410271.62|                  0.0|                           0.0|                2708.921|                   0.0|                            0.0|              NaN|         NaN|                     NaN|          NaN|                      NaN|                  NaN|                              NaN|                   NaN|                               NaN|        NaN|      NaN|                     NaN|                   NaN|               NaN|                            NaN|          NaN|           NaN|        NaN|               NaN|              NaN|                    NaN|           NaN|             NaN|                      NaN|                           NaN|                          NaN|                                NaN|                       NaN|                                  NaN|                           NaN|                                       NaN|             NaN|             584.8|      41.2|       13.085|        7.452|     35973.781|            NaN|                  NaN|              11.62|           NaN|         NaN|                   NaN|                       NaN|          76.29|                    NaN|     106459.0|                                 NaN|                        NaN|             NaN|                                    NaN|\n",
      "|OWID_ASI|          NaN|               Asia|       2024-08-14|3.01499099E8|   4515.0|             645.0|   1637249.0|      17.0|              2.429|                63948.2|                0.958|                         0.137|                 347.262|                 0.004|                          0.001|              NaN|         NaN|                     NaN|          NaN|                      NaN|                  NaN|                              NaN|                   NaN|                               NaN|        NaN|      NaN|                     NaN|                   NaN|               NaN|                            NaN|          NaN|           NaN|        NaN|     9.104304615E9|    3.689438947E9|          3.462095463E9| 1.815176944E9|           258.0|                    193.0|                        192.83|                        78.14|                              73.33|                     38.45|                                  0.0|                          10.0|                                       0.0|             NaN|               NaN|       NaN|          NaN|          NaN|           NaN|            NaN|                  NaN|                NaN|           NaN|         NaN|                   NaN|                       NaN|            NaN|                    NaN| 4.72138337E9|                                 NaN|                        NaN|             NaN|                                    NaN|\n",
      "|     AUS|      Oceania|          Australia|       2024-08-04| 1.1861161E7|      0.0|               0.0|     25236.0|       0.0|                0.0|               452699.0|                  0.0|                           0.0|                  963.17|                   0.0|                            0.0|              NaN|         NaN|                     NaN|          NaN|                      NaN|                  NaN|                              NaN|                   NaN|                               NaN|        NaN|      NaN|                     NaN|                   NaN|               NaN|                            NaN|          NaN|           NaN|        NaN|               NaN|              NaN|                    NaN|           NaN|             NaN|                      NaN|                           NaN|                          NaN|                                NaN|                       NaN|                                  NaN|                           NaN|                                       NaN|             NaN|             3.202|      37.9|       15.504|       10.129|      44648.71|            0.5|              107.791|               5.07|          13.0|        16.5|                   NaN|                      3.84|          83.44|                  0.944|   2.617741E7|                                 NaN|                        NaN|             NaN|                                    NaN|\n",
      "|     AUT|       Europe|            Austria|       2024-08-04|   6082444.0|     15.0|             2.143|     22534.0|       0.0|                0.0|               671004.9|                1.655|                         0.236|                2485.912|                   0.0|                            0.0|              NaN|         NaN|                     NaN|          NaN|                      NaN|                  NaN|                              NaN|                   NaN|                               NaN|        NaN|      NaN|                     NaN|                   NaN|               NaN|                            NaN|          NaN|           NaN|        NaN|               NaN|              NaN|                    NaN|           NaN|             NaN|                      NaN|                           NaN|                          NaN|                                NaN|                       NaN|                                  NaN|                           NaN|                                       NaN|             NaN|           106.749|      44.4|       19.202|       13.748|     45436.686|            0.7|              145.183|               6.35|          28.4|        30.9|                   NaN|                      7.37|          81.54|                  0.922|    8939617.0|                                 NaN|                        NaN|             NaN|                                    NaN|\n",
      "|     AZE|         Asia|         Azerbaijan|       2024-08-04|    835757.0|     63.0|               9.0|     10353.0|       0.0|                0.0|              81178.445|                6.119|                         0.874|                1005.604|                   0.0|                            0.0|              NaN|         NaN|                     NaN|          NaN|                      NaN|                  NaN|                              NaN|                   NaN|                               NaN|        NaN|      NaN|                     NaN|                   NaN|               NaN|                            NaN|          NaN|           NaN|        NaN|               NaN|              NaN|                    NaN|           NaN|             NaN|                      NaN|                           NaN|                          NaN|                                NaN|                       NaN|                                  NaN|                           NaN|                                       NaN|             NaN|           119.309|      32.4|        6.018|        3.871|     15847.419|            NaN|              559.812|               7.11|           0.3|        42.5|                83.241|                       4.7|           73.0|                  0.756|  1.0358078E7|                                 NaN|                        NaN|             NaN|                                    NaN|\n",
      "|     BHS|North America|            Bahamas|       2024-08-04|     39127.0|      0.0|               0.0|       849.0|       0.0|                0.0|               98421.81|                  0.0|                           0.0|                2135.612|                   0.0|                            0.0|              NaN|         NaN|                     NaN|          NaN|                      NaN|                  NaN|                              NaN|                   NaN|                               NaN|        NaN|      NaN|                     NaN|                   NaN|               NaN|                            NaN|          NaN|           NaN|        NaN|               NaN|              NaN|                    NaN|           NaN|             NaN|                      NaN|                           NaN|                          NaN|                                NaN|                       NaN|                                  NaN|                           NaN|                                       NaN|             NaN|            39.497|      34.3|        8.996|          5.2|     27717.847|            NaN|              235.954|              13.17|           3.1|        20.4|                   NaN|                       2.9|          73.92|                  0.814|     409989.0|                                 NaN|                        NaN|             NaN|                                    NaN|\n",
      "|     BHR|         Asia|            Bahrain|       2024-08-04|    696614.0|      0.0|               0.0|      1536.0|       0.0|                0.0|              454276.25|                  0.0|                           0.0|                1001.657|                   0.0|                            0.0|              NaN|         NaN|                     NaN|          NaN|                      NaN|                  NaN|                              NaN|                   NaN|                               NaN|        NaN|      NaN|                     NaN|                   NaN|               NaN|                            NaN|          NaN|           NaN|        NaN|               NaN|              NaN|                    NaN|           NaN|             NaN|                      NaN|                           NaN|                          NaN|                                NaN|                       NaN|                                  NaN|                           NaN|                                       NaN|             NaN|          1935.907|      32.4|        2.372|        1.387|     43290.705|            NaN|              151.689|              16.52|           5.8|        37.6|                   NaN|                       2.0|          77.29|                  0.852|    1472237.0|                                 NaN|                        NaN|             NaN|                                    NaN|\n",
      "|     BGD|         Asia|         Bangladesh|       2024-08-04|   2051348.0|     40.0|             5.714|     29499.0|       0.0|                0.0|              12110.572|                0.236|                         0.034|                 174.154|                   0.0|                            0.0|              NaN|         NaN|                     NaN|          NaN|                      NaN|                  NaN|                              NaN|                   NaN|                               NaN|        NaN|      NaN|                     NaN|                   NaN|               NaN|                            NaN|          NaN|           NaN|        NaN|               NaN|              NaN|                    NaN|           NaN|             NaN|                      NaN|                           NaN|                          NaN|                                NaN|                       NaN|                                  NaN|                           NaN|                                       NaN|             NaN|          1265.036|      27.5|        5.098|        3.262|      3523.984|           14.8|              298.003|               8.38|           1.0|        44.7|                34.808|                       0.8|          72.59|                  0.632| 1.71186368E8|                                 NaN|                        NaN|             NaN|                                    NaN|\n",
      "|     BRB|North America|           Barbados|       2024-08-04|    108582.0|     57.0|             8.143|       593.0|       0.0|                0.0|               384600.7|              201.896|                        28.842|                2100.424|                   0.0|                            0.0|              NaN|         NaN|                     NaN|          NaN|                      NaN|                  NaN|                              NaN|                   NaN|                               NaN|        NaN|      NaN|                     NaN|                   NaN|               NaN|                            NaN|          NaN|           NaN|        NaN|               NaN|              NaN|                    NaN|           NaN|             NaN|                      NaN|                           NaN|                          NaN|                                NaN|                       NaN|                                  NaN|                           NaN|                                       NaN|             NaN|           664.463|      39.8|       14.952|        9.473|     16978.068|            NaN|               170.05|              13.57|           1.9|        14.5|                88.469|                       5.8|          79.19|                  0.814|     281646.0|                                 NaN|                        NaN|             NaN|                                    NaN|\n",
      "+--------+-------------+-------------------+-----------------+------------+---------+------------------+------------+----------+-------------------+-----------------------+---------------------+------------------------------+------------------------+----------------------+-------------------------------+-----------------+------------+------------------------+-------------+-------------------------+---------------------+---------------------------------+----------------------+----------------------------------+-----------+---------+------------------------+----------------------+------------------+-------------------------------+-------------+--------------+-----------+------------------+-----------------+-----------------------+--------------+----------------+-------------------------+------------------------------+-----------------------------+-----------------------------------+--------------------------+-------------------------------------+------------------------------+------------------------------------------+----------------+------------------+----------+-------------+-------------+--------------+---------------+---------------------+-------------------+--------------+------------+----------------------+--------------------------+---------------+-----------------------+-------------+------------------------------------+---------------------------+----------------+---------------------------------------+\n",
      "only showing top 20 rows\n",
      "\n"
     ]
    }
   ],
   "source": [
    "spark.sql('SELECT * FROM data_v').show()"
   ]
  },
  {
   "cell_type": "code",
   "execution_count": 45,
   "id": "c7531e46-4d1d-4024-96a2-26169b541623",
   "metadata": {},
   "outputs": [
    {
     "name": "stdout",
     "output_type": "stream",
     "text": [
      "+-------------+------------+-------------+------------------+------------+\n",
      "|    continent|total_deaths|   population|total_vaccinations| total_cases|\n",
      "+-------------+------------+-------------+------------------+------------+\n",
      "|         Asia|      7998.0|  4.1128772E7|               NaN|    235214.0|\n",
      "|          NaN|    259117.0|1.426736614E9|               NaN|  1.314538E7|\n",
      "|       Europe|      3605.0|    2842318.0|               NaN|    335047.0|\n",
      "|       Africa|      6881.0|  4.4903228E7|               NaN|    272139.0|\n",
      "|      Oceania|        34.0|      44295.0|               NaN|      8359.0|\n",
      "|       Europe|       159.0|      79843.0|               NaN|     48015.0|\n",
      "|       Africa|      1937.0|  3.5588996E7|               NaN|    107481.0|\n",
      "|North America|        12.0|      15877.0|               NaN|      3904.0|\n",
      "|North America|       146.0|      93772.0|               NaN|      9106.0|\n",
      "|South America|    130663.0|  4.5510324E7|               NaN| 1.0101218E7|\n",
      "|         Asia|      8777.0|    2780472.0|               NaN|    452273.0|\n",
      "|North America|       292.0|     106459.0|               NaN|     44224.0|\n",
      "|          NaN|   1637249.0| 4.72138337E9|     9.104304615E9|3.01499099E8|\n",
      "|      Oceania|     25236.0|   2.617741E7|               NaN| 1.1861161E7|\n",
      "|       Europe|     22534.0|    8939617.0|               NaN|   6082444.0|\n",
      "|         Asia|     10353.0|  1.0358078E7|               NaN|    835757.0|\n",
      "|North America|       849.0|     409989.0|               NaN|     39127.0|\n",
      "|         Asia|      1536.0|    1472237.0|               NaN|    696614.0|\n",
      "|         Asia|     29499.0| 1.71186368E8|               NaN|   2051348.0|\n",
      "|North America|       593.0|     281646.0|               NaN|    108582.0|\n",
      "+-------------+------------+-------------+------------------+------------+\n",
      "only showing top 20 rows\n",
      "\n"
     ]
    }
   ],
   "source": [
    "spark.sql('SELECT continent, total_deaths, population, total_vaccinations, total_cases FROM data_v').show()"
   ]
  },
  {
   "cell_type": "markdown",
   "id": "0fed5595",
   "metadata": {},
   "source": [
    "Look the original notebook for the other steps\n"
   ]
  },
  {
   "cell_type": "markdown",
   "id": "a8559536",
   "metadata": {},
   "source": [
    "##  Author\n"
   ]
  },
  {
   "cell_type": "markdown",
   "id": "f8d3347d",
   "metadata": {},
   "source": [
    "**Ritika Joshi**\n"
   ]
  },
  {
   "cell_type": "markdown",
   "id": "b2825e36-a979-4908-89c6-8730fd3c7e32",
   "metadata": {},
   "source": [
    "<!--## Change Log\n",
    "|Date (YYYY-MM-DD)|Version|Changed By|Change Description|\n",
    "|-|-|-|-|\n",
    "|2024-09-23|0.1|Ritika|First Draft|\n",
    "--!>\n"
   ]
  }
 ],
 "metadata": {
  "kernelspec": {
   "display_name": "Python 3 (ipykernel)",
   "language": "python",
   "name": "python3"
  },
  "language_info": {
   "codemirror_mode": {
    "name": "ipython",
    "version": 3
   },
   "file_extension": ".py",
   "mimetype": "text/x-python",
   "name": "python",
   "nbconvert_exporter": "python",
   "pygments_lexer": "ipython3",
   "version": "3.12.8"
  },
  "prev_pub_hash": "45a0dd703bfbcc37ede89eec12aa2a3ff03ef47840aa569cd67704c66ddb0f6c"
 },
 "nbformat": 4,
 "nbformat_minor": 5
}
